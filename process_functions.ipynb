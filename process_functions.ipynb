{
 "cells": [
  {
   "cell_type": "code",
   "execution_count": 3,
   "id": "according-catalyst",
   "metadata": {},
   "outputs": [],
   "source": [
    "def process(df, df_type):\n",
    "    \"\"\"processing and transforming of data.function retuns prepared dataset for training or evaluation\"\"\" \n",
    "    means = pd.DataFrame()\n",
    "    \n",
    "    if df_type == 'train': # removing outliers - for train dataset only\n",
    "        df_inc = transform(df_inc)  \n",
    "        df_inc = filling_empty_values(df, df_type, means) #fill na - for any dataset\n",
    "    elif df_type=='test':\n",
    "        df_inc = pre_process(df, df_type)\n",
    "    else:\n",
    "        return None\n",
    "    \n",
    "    # split to train and test datasets for training case. do nothing for testing case.\n",
    "    if df_type == 'train':\n",
    "        y = df_inc['price_doc']\n",
    "        X = df_inc.drop('price_doc', axis = 1)\n",
    "        return X, y\n",
    "    else:\n",
    "        return df_inc"
   ]
  },
  {
   "cell_type": "code",
   "execution_count": 4,
   "id": "familiar-entity",
   "metadata": {},
   "outputs": [],
   "source": [
    "def filling_empty_values(df, df_type, means):\n",
    "    \"\"\"fill na \"\"\"\n",
    "    null_columns = []\n",
    "    #mean values calculation\n",
    "    if df_type == 'train':\n",
    "        for column_name, value in df.isna().sum().items():\n",
    "            if value > 0:\n",
    "                null_columns.append(column_name)\n",
    "        for column_name in null_columns:\n",
    "            mean_series = df.groupby('sub_area')[column_name].mean()\n",
    "            means[column_name] = mean_series\n",
    "    \n",
    "    for key in means:\n",
    "        values = means[key]\n",
    "        df[key] = df[key].fillna(df['sub_area'].map(values))\n",
    "\n",
    "    return df"
   ]
  },
  {
   "cell_type": "code",
   "execution_count": 10,
   "id": "rotary-bicycle",
   "metadata": {},
   "outputs": [],
   "source": [
    "def transform(df):\n",
    "    #df = num_values_process(df)\n",
    "    #df_cat = cat_values_process(df)\n",
    "    #df = post_process(df_cat, df_num)\n",
    "    return df"
   ]
  },
  {
   "cell_type": "code",
   "execution_count": 7,
   "id": "naked-going",
   "metadata": {},
   "outputs": [],
   "source": [
    "def cat_values_process(df):\n",
    "    \"\"\"OHE\"\"\"\n",
    "    df['culture_objects_top_25'] = df[df[culture_objects_top_25]] = yes/no\n",
    "    return df"
   ]
  },
  {
   "cell_type": "code",
   "execution_count": 8,
   "id": "developmental-pattern",
   "metadata": {},
   "outputs": [],
   "source": [
    "def num_values_process(df):\n",
    "    \"\"\"data transforming and outliers removing\"\"\"\n",
    "    df = df[(df['full_sq'] < 1000)\n",
    "           & (df['life_sq'] < 1000)\n",
    "           & (df['floor'] < 50)\n",
    "           & (df['max_floor'] < 50)\n",
    "           & (df['num_room'] < 12)\n",
    "           & df['kitch_sq'] < 100\n",
    "           & df['num_room'] < 12]\n",
    "        \n",
    "    return df"
   ]
  },
  {
   "cell_type": "code",
   "execution_count": null,
   "id": "stone-acquisition",
   "metadata": {},
   "outputs": [],
   "source": []
  },
  {
   "cell_type": "code",
   "execution_count": 1,
   "id": "republican-watson",
   "metadata": {},
   "outputs": [],
   "source": [
    "def post_process(df_cat, df_num):\n",
    "    \"\"\"merge\"\"\"\n",
    "    df_int = df_cat.merge(df_num, how='inner', left_on = 'id', right_on = 'id')\n",
    "    return df_int"
   ]
  },
  {
   "cell_type": "code",
   "execution_count": null,
   "id": "valued-february",
   "metadata": {},
   "outputs": [],
   "source": []
  },
  {
   "cell_type": "code",
   "execution_count": 5,
   "id": "beginning-moderator",
   "metadata": {},
   "outputs": [],
   "source": [
    "def year_transforming(year):\n",
    "    \"\"\"adding of century to two-digits year mark\"\"\"\n",
    "    if len(year) == 2:\n",
    "        year = int ('19' + str(year))\n",
    "    return year"
   ]
  },
  {
   "cell_type": "code",
   "execution_count": null,
   "id": "dramatic-access",
   "metadata": {},
   "outputs": [],
   "source": []
  },
  {
   "cell_type": "code",
   "execution_count": null,
   "id": "treated-request",
   "metadata": {},
   "outputs": [],
   "source": []
  }
 ],
 "metadata": {
  "kernelspec": {
   "display_name": "Python 3",
   "language": "python",
   "name": "python3"
  },
  "language_info": {
   "codemirror_mode": {
    "name": "ipython",
    "version": 3
   },
   "file_extension": ".py",
   "mimetype": "text/x-python",
   "name": "python",
   "nbconvert_exporter": "python",
   "pygments_lexer": "ipython3",
   "version": "3.9.1"
  }
 },
 "nbformat": 4,
 "nbformat_minor": 5
}
