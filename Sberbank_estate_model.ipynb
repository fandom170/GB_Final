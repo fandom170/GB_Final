{
 "cells": [
  {
   "cell_type": "code",
   "execution_count": 2,
   "id": "referenced-taiwan",
   "metadata": {},
   "outputs": [],
   "source": [
    "import pandas as pd\n",
    "import numpy as np"
   ]
  },
  {
   "cell_type": "code",
   "execution_count": null,
   "id": "lovely-dubai",
   "metadata": {},
   "outputs": [],
   "source": []
  },
  {
   "cell_type": "code",
   "execution_count": 3,
   "id": "residential-trash",
   "metadata": {},
   "outputs": [],
   "source": [
    "import matplotlib.pyplot as plt\n",
    "import seaborn as sns"
   ]
  },
  {
   "cell_type": "code",
   "execution_count": 4,
   "id": "intelligent-colors",
   "metadata": {},
   "outputs": [],
   "source": [
    "sns.set_theme(style=\"whitegrid\")"
   ]
  },
  {
   "cell_type": "code",
   "execution_count": 5,
   "id": "injured-footwear",
   "metadata": {},
   "outputs": [],
   "source": [
    "from sklearn.model_selection import train_test_split"
   ]
  },
  {
   "cell_type": "code",
   "execution_count": 7,
   "id": "apparent-influence",
   "metadata": {},
   "outputs": [],
   "source": [
    "import xgboost"
   ]
  },
  {
   "cell_type": "code",
   "execution_count": 6,
   "id": "speaking-windsor",
   "metadata": {},
   "outputs": [],
   "source": [
    "import catboost"
   ]
  },
  {
   "cell_type": "code",
   "execution_count": null,
   "id": "changed-member",
   "metadata": {},
   "outputs": [],
   "source": []
  },
  {
   "cell_type": "code",
   "execution_count": 8,
   "id": "little-madrid",
   "metadata": {},
   "outputs": [],
   "source": [
    "def process(df):\n",
    "    \"\"\"processing and transforming of data.function retuns prepared dataset for training or evaluation\"\"\"\n",
    "    df_inc = pre_process(df)\n",
    "    df_cat = cat_values_processing(df_inc)\n",
    "    df_num = num_values_process(df_inc)    \n",
    "    df_int = post_process(df_cat, df_num)\n",
    "    \n",
    "    if 'price_doc' in df.columns:\n",
    "        y = df_int['price_doc']\n",
    "    else:\n",
    "        y = null\n",
    "        \n",
    "    X = df_int.drop('price_doc', axis = 1)\n",
    "    return X, y"
   ]
  },
  {
   "cell_type": "code",
   "execution_count": 9,
   "id": "saved-influence",
   "metadata": {},
   "outputs": [],
   "source": [
    "def cat_values_process(df):\n",
    "    \"\"\"fill na\"\"\"\n",
    "    return df"
   ]
  },
  {
   "cell_type": "code",
   "execution_count": 10,
   "id": "smooth-recipe",
   "metadata": {},
   "outputs": [],
   "source": [
    "def num_values_process(df):\n",
    "    \"\"\"data transforming\"\"\"\n",
    "    return df"
   ]
  },
  {
   "cell_type": "code",
   "execution_count": 11,
   "id": "adolescent-lambda",
   "metadata": {},
   "outputs": [],
   "source": [
    "def pre_process(df):\n",
    "    \"\"\"OHE\"\"\"\n",
    "    return df"
   ]
  },
  {
   "cell_type": "code",
   "execution_count": 12,
   "id": "confused-scout",
   "metadata": {},
   "outputs": [],
   "source": [
    "def post_process(df_cat, df_num):\n",
    "    \"\"\"merge\"\"\"\n",
    "    df_int = df_cat.merge(df_num)\n",
    "    return df_int"
   ]
  },
  {
   "cell_type": "code",
   "execution_count": 15,
   "id": "thousand-movement",
   "metadata": {},
   "outputs": [],
   "source": [
    "df_macro = pd.read_pickle('macroeconomic.pkl')"
   ]
  },
  {
   "cell_type": "code",
   "execution_count": 13,
   "id": "loaded-february",
   "metadata": {},
   "outputs": [],
   "source": [
    "df = pd.read_csv('project_data/attempt_4/train.csv')"
   ]
  },
  {
   "cell_type": "code",
   "execution_count": 16,
   "id": "accomplished-princess",
   "metadata": {
    "scrolled": false
   },
   "outputs": [
    {
     "data": {
      "text/html": [
       "<div>\n",
       "<style scoped>\n",
       "    .dataframe tbody tr th:only-of-type {\n",
       "        vertical-align: middle;\n",
       "    }\n",
       "\n",
       "    .dataframe tbody tr th {\n",
       "        vertical-align: top;\n",
       "    }\n",
       "\n",
       "    .dataframe thead th {\n",
       "        text-align: right;\n",
       "    }\n",
       "</style>\n",
       "<table border=\"1\" class=\"dataframe\">\n",
       "  <thead>\n",
       "    <tr style=\"text-align: right;\">\n",
       "      <th></th>\n",
       "      <th>id</th>\n",
       "      <th>timestamp</th>\n",
       "      <th>full_sq</th>\n",
       "      <th>life_sq</th>\n",
       "      <th>floor</th>\n",
       "      <th>max_floor</th>\n",
       "      <th>material</th>\n",
       "      <th>build_year</th>\n",
       "      <th>num_room</th>\n",
       "      <th>kitch_sq</th>\n",
       "      <th>...</th>\n",
       "      <th>cafe_count_5000_price_2500</th>\n",
       "      <th>cafe_count_5000_price_4000</th>\n",
       "      <th>cafe_count_5000_price_high</th>\n",
       "      <th>big_church_count_5000</th>\n",
       "      <th>church_count_5000</th>\n",
       "      <th>mosque_count_5000</th>\n",
       "      <th>leisure_count_5000</th>\n",
       "      <th>sport_count_5000</th>\n",
       "      <th>market_count_5000</th>\n",
       "      <th>price_doc</th>\n",
       "    </tr>\n",
       "  </thead>\n",
       "  <tbody>\n",
       "    <tr>\n",
       "      <th>0</th>\n",
       "      <td>1</td>\n",
       "      <td>2011-08-20</td>\n",
       "      <td>43</td>\n",
       "      <td>27.0</td>\n",
       "      <td>4.0</td>\n",
       "      <td>NaN</td>\n",
       "      <td>NaN</td>\n",
       "      <td>NaN</td>\n",
       "      <td>NaN</td>\n",
       "      <td>NaN</td>\n",
       "      <td>...</td>\n",
       "      <td>9</td>\n",
       "      <td>4</td>\n",
       "      <td>0</td>\n",
       "      <td>13</td>\n",
       "      <td>22</td>\n",
       "      <td>1</td>\n",
       "      <td>0</td>\n",
       "      <td>52</td>\n",
       "      <td>4</td>\n",
       "      <td>5850000</td>\n",
       "    </tr>\n",
       "    <tr>\n",
       "      <th>1</th>\n",
       "      <td>2</td>\n",
       "      <td>2011-08-23</td>\n",
       "      <td>34</td>\n",
       "      <td>19.0</td>\n",
       "      <td>3.0</td>\n",
       "      <td>NaN</td>\n",
       "      <td>NaN</td>\n",
       "      <td>NaN</td>\n",
       "      <td>NaN</td>\n",
       "      <td>NaN</td>\n",
       "      <td>...</td>\n",
       "      <td>15</td>\n",
       "      <td>3</td>\n",
       "      <td>0</td>\n",
       "      <td>15</td>\n",
       "      <td>29</td>\n",
       "      <td>1</td>\n",
       "      <td>10</td>\n",
       "      <td>66</td>\n",
       "      <td>14</td>\n",
       "      <td>6000000</td>\n",
       "    </tr>\n",
       "    <tr>\n",
       "      <th>2</th>\n",
       "      <td>3</td>\n",
       "      <td>2011-08-27</td>\n",
       "      <td>43</td>\n",
       "      <td>29.0</td>\n",
       "      <td>2.0</td>\n",
       "      <td>NaN</td>\n",
       "      <td>NaN</td>\n",
       "      <td>NaN</td>\n",
       "      <td>NaN</td>\n",
       "      <td>NaN</td>\n",
       "      <td>...</td>\n",
       "      <td>10</td>\n",
       "      <td>3</td>\n",
       "      <td>0</td>\n",
       "      <td>11</td>\n",
       "      <td>27</td>\n",
       "      <td>0</td>\n",
       "      <td>4</td>\n",
       "      <td>67</td>\n",
       "      <td>10</td>\n",
       "      <td>5700000</td>\n",
       "    </tr>\n",
       "    <tr>\n",
       "      <th>3</th>\n",
       "      <td>4</td>\n",
       "      <td>2011-09-01</td>\n",
       "      <td>89</td>\n",
       "      <td>50.0</td>\n",
       "      <td>9.0</td>\n",
       "      <td>NaN</td>\n",
       "      <td>NaN</td>\n",
       "      <td>NaN</td>\n",
       "      <td>NaN</td>\n",
       "      <td>NaN</td>\n",
       "      <td>...</td>\n",
       "      <td>11</td>\n",
       "      <td>2</td>\n",
       "      <td>1</td>\n",
       "      <td>4</td>\n",
       "      <td>4</td>\n",
       "      <td>0</td>\n",
       "      <td>0</td>\n",
       "      <td>26</td>\n",
       "      <td>3</td>\n",
       "      <td>13100000</td>\n",
       "    </tr>\n",
       "    <tr>\n",
       "      <th>4</th>\n",
       "      <td>5</td>\n",
       "      <td>2011-09-05</td>\n",
       "      <td>77</td>\n",
       "      <td>77.0</td>\n",
       "      <td>4.0</td>\n",
       "      <td>NaN</td>\n",
       "      <td>NaN</td>\n",
       "      <td>NaN</td>\n",
       "      <td>NaN</td>\n",
       "      <td>NaN</td>\n",
       "      <td>...</td>\n",
       "      <td>319</td>\n",
       "      <td>108</td>\n",
       "      <td>17</td>\n",
       "      <td>135</td>\n",
       "      <td>236</td>\n",
       "      <td>2</td>\n",
       "      <td>91</td>\n",
       "      <td>195</td>\n",
       "      <td>14</td>\n",
       "      <td>16331452</td>\n",
       "    </tr>\n",
       "  </tbody>\n",
       "</table>\n",
       "<p>5 rows × 292 columns</p>\n",
       "</div>"
      ],
      "text/plain": [
       "   id   timestamp  full_sq  life_sq  floor  max_floor  material  build_year  \\\n",
       "0   1  2011-08-20       43     27.0    4.0        NaN       NaN         NaN   \n",
       "1   2  2011-08-23       34     19.0    3.0        NaN       NaN         NaN   \n",
       "2   3  2011-08-27       43     29.0    2.0        NaN       NaN         NaN   \n",
       "3   4  2011-09-01       89     50.0    9.0        NaN       NaN         NaN   \n",
       "4   5  2011-09-05       77     77.0    4.0        NaN       NaN         NaN   \n",
       "\n",
       "   num_room  kitch_sq  ...  cafe_count_5000_price_2500  \\\n",
       "0       NaN       NaN  ...                           9   \n",
       "1       NaN       NaN  ...                          15   \n",
       "2       NaN       NaN  ...                          10   \n",
       "3       NaN       NaN  ...                          11   \n",
       "4       NaN       NaN  ...                         319   \n",
       "\n",
       "  cafe_count_5000_price_4000 cafe_count_5000_price_high  \\\n",
       "0                          4                          0   \n",
       "1                          3                          0   \n",
       "2                          3                          0   \n",
       "3                          2                          1   \n",
       "4                        108                         17   \n",
       "\n",
       "   big_church_count_5000  church_count_5000  mosque_count_5000  \\\n",
       "0                     13                 22                  1   \n",
       "1                     15                 29                  1   \n",
       "2                     11                 27                  0   \n",
       "3                      4                  4                  0   \n",
       "4                    135                236                  2   \n",
       "\n",
       "   leisure_count_5000  sport_count_5000  market_count_5000  price_doc  \n",
       "0                   0                52                  4    5850000  \n",
       "1                  10                66                 14    6000000  \n",
       "2                   4                67                 10    5700000  \n",
       "3                   0                26                  3   13100000  \n",
       "4                  91               195                 14   16331452  \n",
       "\n",
       "[5 rows x 292 columns]"
      ]
     },
     "execution_count": 16,
     "metadata": {},
     "output_type": "execute_result"
    }
   ],
   "source": [
    "df.head()"
   ]
  },
  {
   "cell_type": "code",
   "execution_count": 17,
   "id": "isolated-pizza",
   "metadata": {},
   "outputs": [
    {
     "data": {
      "text/plain": [
       "(30471, 292)"
      ]
     },
     "execution_count": 17,
     "metadata": {},
     "output_type": "execute_result"
    }
   ],
   "source": [
    "df.shape"
   ]
  },
  {
   "cell_type": "code",
   "execution_count": 18,
   "id": "abroad-recorder",
   "metadata": {},
   "outputs": [
    {
     "name": "stdout",
     "output_type": "stream",
     "text": [
      "<class 'pandas.core.frame.DataFrame'>\n",
      "RangeIndex: 30471 entries, 0 to 30470\n",
      "Columns: 292 entries, id to price_doc\n",
      "dtypes: float64(119), int64(157), object(16)\n",
      "memory usage: 67.9+ MB\n"
     ]
    }
   ],
   "source": [
    "df.info()"
   ]
  },
  {
   "cell_type": "code",
   "execution_count": 12,
   "id": "substantial-secret",
   "metadata": {},
   "outputs": [
    {
     "data": {
      "text/plain": [
       "id                       0\n",
       "timestamp                0\n",
       "full_sq                  0\n",
       "life_sq               6383\n",
       "floor                  167\n",
       "                      ... \n",
       "mosque_count_5000        0\n",
       "leisure_count_5000       0\n",
       "sport_count_5000         0\n",
       "market_count_5000        0\n",
       "price_doc                0\n",
       "Length: 292, dtype: int64"
      ]
     },
     "execution_count": 12,
     "metadata": {},
     "output_type": "execute_result"
    }
   ],
   "source": [
    "df.isna().sum()"
   ]
  },
  {
   "cell_type": "code",
   "execution_count": 7,
   "id": "nonprofit-syracuse",
   "metadata": {},
   "outputs": [
    {
     "data": {
      "text/html": [
       "<div>\n",
       "<style scoped>\n",
       "    .dataframe tbody tr th:only-of-type {\n",
       "        vertical-align: middle;\n",
       "    }\n",
       "\n",
       "    .dataframe tbody tr th {\n",
       "        vertical-align: top;\n",
       "    }\n",
       "\n",
       "    .dataframe thead th {\n",
       "        text-align: right;\n",
       "    }\n",
       "</style>\n",
       "<table border=\"1\" class=\"dataframe\">\n",
       "  <thead>\n",
       "    <tr style=\"text-align: right;\">\n",
       "      <th></th>\n",
       "      <th>id</th>\n",
       "      <th>full_sq</th>\n",
       "      <th>life_sq</th>\n",
       "      <th>floor</th>\n",
       "      <th>max_floor</th>\n",
       "      <th>material</th>\n",
       "      <th>build_year</th>\n",
       "      <th>num_room</th>\n",
       "      <th>kitch_sq</th>\n",
       "      <th>state</th>\n",
       "      <th>...</th>\n",
       "      <th>cafe_count_5000_price_2500</th>\n",
       "      <th>cafe_count_5000_price_4000</th>\n",
       "      <th>cafe_count_5000_price_high</th>\n",
       "      <th>big_church_count_5000</th>\n",
       "      <th>church_count_5000</th>\n",
       "      <th>mosque_count_5000</th>\n",
       "      <th>leisure_count_5000</th>\n",
       "      <th>sport_count_5000</th>\n",
       "      <th>market_count_5000</th>\n",
       "      <th>price_doc</th>\n",
       "    </tr>\n",
       "  </thead>\n",
       "  <tbody>\n",
       "    <tr>\n",
       "      <th>count</th>\n",
       "      <td>30471.000000</td>\n",
       "      <td>30471.000000</td>\n",
       "      <td>24088.000000</td>\n",
       "      <td>30304.000000</td>\n",
       "      <td>20899.000000</td>\n",
       "      <td>20899.000000</td>\n",
       "      <td>1.686600e+04</td>\n",
       "      <td>20899.000000</td>\n",
       "      <td>20899.000000</td>\n",
       "      <td>16912.000000</td>\n",
       "      <td>...</td>\n",
       "      <td>30471.000000</td>\n",
       "      <td>30471.000000</td>\n",
       "      <td>30471.000000</td>\n",
       "      <td>30471.000000</td>\n",
       "      <td>30471.000000</td>\n",
       "      <td>30471.000000</td>\n",
       "      <td>30471.000000</td>\n",
       "      <td>30471.000000</td>\n",
       "      <td>30471.000000</td>\n",
       "      <td>3.047100e+04</td>\n",
       "    </tr>\n",
       "    <tr>\n",
       "      <th>mean</th>\n",
       "      <td>15237.917397</td>\n",
       "      <td>54.214269</td>\n",
       "      <td>34.403271</td>\n",
       "      <td>7.670803</td>\n",
       "      <td>12.558974</td>\n",
       "      <td>1.827121</td>\n",
       "      <td>3.068057e+03</td>\n",
       "      <td>1.909804</td>\n",
       "      <td>6.399301</td>\n",
       "      <td>2.107025</td>\n",
       "      <td>...</td>\n",
       "      <td>32.058318</td>\n",
       "      <td>10.783860</td>\n",
       "      <td>1.771783</td>\n",
       "      <td>15.045552</td>\n",
       "      <td>30.251518</td>\n",
       "      <td>0.442421</td>\n",
       "      <td>8.648814</td>\n",
       "      <td>52.796593</td>\n",
       "      <td>5.987070</td>\n",
       "      <td>7.123035e+06</td>\n",
       "    </tr>\n",
       "    <tr>\n",
       "      <th>std</th>\n",
       "      <td>8796.501536</td>\n",
       "      <td>38.031487</td>\n",
       "      <td>52.285733</td>\n",
       "      <td>5.319989</td>\n",
       "      <td>6.756550</td>\n",
       "      <td>1.481154</td>\n",
       "      <td>1.543878e+05</td>\n",
       "      <td>0.851805</td>\n",
       "      <td>28.265979</td>\n",
       "      <td>0.880148</td>\n",
       "      <td>...</td>\n",
       "      <td>73.465611</td>\n",
       "      <td>28.385679</td>\n",
       "      <td>5.418807</td>\n",
       "      <td>29.118668</td>\n",
       "      <td>47.347938</td>\n",
       "      <td>0.609269</td>\n",
       "      <td>20.580741</td>\n",
       "      <td>46.292660</td>\n",
       "      <td>4.889219</td>\n",
       "      <td>4.780111e+06</td>\n",
       "    </tr>\n",
       "    <tr>\n",
       "      <th>min</th>\n",
       "      <td>1.000000</td>\n",
       "      <td>0.000000</td>\n",
       "      <td>0.000000</td>\n",
       "      <td>0.000000</td>\n",
       "      <td>0.000000</td>\n",
       "      <td>1.000000</td>\n",
       "      <td>0.000000e+00</td>\n",
       "      <td>0.000000</td>\n",
       "      <td>0.000000</td>\n",
       "      <td>1.000000</td>\n",
       "      <td>...</td>\n",
       "      <td>0.000000</td>\n",
       "      <td>0.000000</td>\n",
       "      <td>0.000000</td>\n",
       "      <td>0.000000</td>\n",
       "      <td>0.000000</td>\n",
       "      <td>0.000000</td>\n",
       "      <td>0.000000</td>\n",
       "      <td>0.000000</td>\n",
       "      <td>0.000000</td>\n",
       "      <td>1.000000e+05</td>\n",
       "    </tr>\n",
       "    <tr>\n",
       "      <th>25%</th>\n",
       "      <td>7620.500000</td>\n",
       "      <td>38.000000</td>\n",
       "      <td>20.000000</td>\n",
       "      <td>3.000000</td>\n",
       "      <td>9.000000</td>\n",
       "      <td>1.000000</td>\n",
       "      <td>1.967000e+03</td>\n",
       "      <td>1.000000</td>\n",
       "      <td>1.000000</td>\n",
       "      <td>1.000000</td>\n",
       "      <td>...</td>\n",
       "      <td>2.000000</td>\n",
       "      <td>1.000000</td>\n",
       "      <td>0.000000</td>\n",
       "      <td>2.000000</td>\n",
       "      <td>9.000000</td>\n",
       "      <td>0.000000</td>\n",
       "      <td>0.000000</td>\n",
       "      <td>11.000000</td>\n",
       "      <td>1.000000</td>\n",
       "      <td>4.740002e+06</td>\n",
       "    </tr>\n",
       "    <tr>\n",
       "      <th>50%</th>\n",
       "      <td>15238.000000</td>\n",
       "      <td>49.000000</td>\n",
       "      <td>30.000000</td>\n",
       "      <td>6.500000</td>\n",
       "      <td>12.000000</td>\n",
       "      <td>1.000000</td>\n",
       "      <td>1.979000e+03</td>\n",
       "      <td>2.000000</td>\n",
       "      <td>6.000000</td>\n",
       "      <td>2.000000</td>\n",
       "      <td>...</td>\n",
       "      <td>8.000000</td>\n",
       "      <td>2.000000</td>\n",
       "      <td>0.000000</td>\n",
       "      <td>7.000000</td>\n",
       "      <td>16.000000</td>\n",
       "      <td>0.000000</td>\n",
       "      <td>2.000000</td>\n",
       "      <td>48.000000</td>\n",
       "      <td>5.000000</td>\n",
       "      <td>6.274411e+06</td>\n",
       "    </tr>\n",
       "    <tr>\n",
       "      <th>75%</th>\n",
       "      <td>22855.500000</td>\n",
       "      <td>63.000000</td>\n",
       "      <td>43.000000</td>\n",
       "      <td>11.000000</td>\n",
       "      <td>17.000000</td>\n",
       "      <td>2.000000</td>\n",
       "      <td>2.005000e+03</td>\n",
       "      <td>2.000000</td>\n",
       "      <td>9.000000</td>\n",
       "      <td>3.000000</td>\n",
       "      <td>...</td>\n",
       "      <td>21.000000</td>\n",
       "      <td>5.000000</td>\n",
       "      <td>1.000000</td>\n",
       "      <td>12.000000</td>\n",
       "      <td>28.000000</td>\n",
       "      <td>1.000000</td>\n",
       "      <td>7.000000</td>\n",
       "      <td>76.000000</td>\n",
       "      <td>10.000000</td>\n",
       "      <td>8.300000e+06</td>\n",
       "    </tr>\n",
       "    <tr>\n",
       "      <th>max</th>\n",
       "      <td>30473.000000</td>\n",
       "      <td>5326.000000</td>\n",
       "      <td>7478.000000</td>\n",
       "      <td>77.000000</td>\n",
       "      <td>117.000000</td>\n",
       "      <td>6.000000</td>\n",
       "      <td>2.005201e+07</td>\n",
       "      <td>19.000000</td>\n",
       "      <td>2014.000000</td>\n",
       "      <td>33.000000</td>\n",
       "      <td>...</td>\n",
       "      <td>377.000000</td>\n",
       "      <td>147.000000</td>\n",
       "      <td>30.000000</td>\n",
       "      <td>151.000000</td>\n",
       "      <td>250.000000</td>\n",
       "      <td>2.000000</td>\n",
       "      <td>106.000000</td>\n",
       "      <td>218.000000</td>\n",
       "      <td>21.000000</td>\n",
       "      <td>1.111111e+08</td>\n",
       "    </tr>\n",
       "  </tbody>\n",
       "</table>\n",
       "<p>8 rows × 276 columns</p>\n",
       "</div>"
      ],
      "text/plain": [
       "                 id       full_sq       life_sq         floor     max_floor  \\\n",
       "count  30471.000000  30471.000000  24088.000000  30304.000000  20899.000000   \n",
       "mean   15237.917397     54.214269     34.403271      7.670803     12.558974   \n",
       "std     8796.501536     38.031487     52.285733      5.319989      6.756550   \n",
       "min        1.000000      0.000000      0.000000      0.000000      0.000000   \n",
       "25%     7620.500000     38.000000     20.000000      3.000000      9.000000   \n",
       "50%    15238.000000     49.000000     30.000000      6.500000     12.000000   \n",
       "75%    22855.500000     63.000000     43.000000     11.000000     17.000000   \n",
       "max    30473.000000   5326.000000   7478.000000     77.000000    117.000000   \n",
       "\n",
       "           material    build_year      num_room      kitch_sq         state  \\\n",
       "count  20899.000000  1.686600e+04  20899.000000  20899.000000  16912.000000   \n",
       "mean       1.827121  3.068057e+03      1.909804      6.399301      2.107025   \n",
       "std        1.481154  1.543878e+05      0.851805     28.265979      0.880148   \n",
       "min        1.000000  0.000000e+00      0.000000      0.000000      1.000000   \n",
       "25%        1.000000  1.967000e+03      1.000000      1.000000      1.000000   \n",
       "50%        1.000000  1.979000e+03      2.000000      6.000000      2.000000   \n",
       "75%        2.000000  2.005000e+03      2.000000      9.000000      3.000000   \n",
       "max        6.000000  2.005201e+07     19.000000   2014.000000     33.000000   \n",
       "\n",
       "       ...  cafe_count_5000_price_2500  cafe_count_5000_price_4000  \\\n",
       "count  ...                30471.000000                30471.000000   \n",
       "mean   ...                   32.058318                   10.783860   \n",
       "std    ...                   73.465611                   28.385679   \n",
       "min    ...                    0.000000                    0.000000   \n",
       "25%    ...                    2.000000                    1.000000   \n",
       "50%    ...                    8.000000                    2.000000   \n",
       "75%    ...                   21.000000                    5.000000   \n",
       "max    ...                  377.000000                  147.000000   \n",
       "\n",
       "       cafe_count_5000_price_high  big_church_count_5000  church_count_5000  \\\n",
       "count                30471.000000           30471.000000       30471.000000   \n",
       "mean                     1.771783              15.045552          30.251518   \n",
       "std                      5.418807              29.118668          47.347938   \n",
       "min                      0.000000               0.000000           0.000000   \n",
       "25%                      0.000000               2.000000           9.000000   \n",
       "50%                      0.000000               7.000000          16.000000   \n",
       "75%                      1.000000              12.000000          28.000000   \n",
       "max                     30.000000             151.000000         250.000000   \n",
       "\n",
       "       mosque_count_5000  leisure_count_5000  sport_count_5000  \\\n",
       "count       30471.000000        30471.000000      30471.000000   \n",
       "mean            0.442421            8.648814         52.796593   \n",
       "std             0.609269           20.580741         46.292660   \n",
       "min             0.000000            0.000000          0.000000   \n",
       "25%             0.000000            0.000000         11.000000   \n",
       "50%             0.000000            2.000000         48.000000   \n",
       "75%             1.000000            7.000000         76.000000   \n",
       "max             2.000000          106.000000        218.000000   \n",
       "\n",
       "       market_count_5000     price_doc  \n",
       "count       30471.000000  3.047100e+04  \n",
       "mean            5.987070  7.123035e+06  \n",
       "std             4.889219  4.780111e+06  \n",
       "min             0.000000  1.000000e+05  \n",
       "25%             1.000000  4.740002e+06  \n",
       "50%             5.000000  6.274411e+06  \n",
       "75%            10.000000  8.300000e+06  \n",
       "max            21.000000  1.111111e+08  \n",
       "\n",
       "[8 rows x 276 columns]"
      ]
     },
     "execution_count": 7,
     "metadata": {},
     "output_type": "execute_result"
    }
   ],
   "source": [
    "df.describe()"
   ]
  },
  {
   "cell_type": "code",
   "execution_count": 1,
   "id": "narrow-samuel",
   "metadata": {},
   "outputs": [
    {
     "ename": "NameError",
     "evalue": "name 'df' is not defined",
     "output_type": "error",
     "traceback": [
      "\u001b[1;31m---------------------------------------------------------------------------\u001b[0m",
      "\u001b[1;31mNameError\u001b[0m                                 Traceback (most recent call last)",
      "\u001b[1;32m<ipython-input-1-ea942bf769f0>\u001b[0m in \u001b[0;36m<module>\u001b[1;34m\u001b[0m\n\u001b[1;32m----> 1\u001b[1;33m \u001b[0mdf\u001b[0m\u001b[1;33m.\u001b[0m\u001b[0mcolumns\u001b[0m\u001b[1;33m(\u001b[0m\u001b[1;33m)\u001b[0m\u001b[1;33m\u001b[0m\u001b[1;33m\u001b[0m\u001b[0m\n\u001b[0m",
      "\u001b[1;31mNameError\u001b[0m: name 'df' is not defined"
     ]
    }
   ],
   "source": [
    "df.columns()"
   ]
  },
  {
   "cell_type": "code",
   "execution_count": 18,
   "id": "stable-ethernet",
   "metadata": {
    "scrolled": true
   },
   "outputs": [
    {
     "data": {
      "image/png": "[encoded data removed]",
      "text/plain": [
       "<Figure size 432x288 with 1 Axes>"
      ]
     },
     "metadata": {},
     "output_type": "display_data"
    }
   ],
   "source": [
    "ax = sns.boxplot(x = df.full_sq)"
   ]
  },
  {
   "cell_type": "code",
   "execution_count": 25,
   "id": "considerable-queens",
   "metadata": {},
   "outputs": [
    {
     "data": {
      "text/plain": [
       "count    30471.000000\n",
       "mean        54.214269\n",
       "std         38.031487\n",
       "min          0.000000\n",
       "25%         38.000000\n",
       "50%         49.000000\n",
       "75%         63.000000\n",
       "max       5326.000000\n",
       "Name: full_sq, dtype: float64"
      ]
     },
     "execution_count": 25,
     "metadata": {},
     "output_type": "execute_result"
    }
   ],
   "source": [
    "df.full_sq.describe()"
   ]
  },
  {
   "cell_type": "code",
   "execution_count": 22,
   "id": "pleased-printer",
   "metadata": {},
   "outputs": [
    {
     "data": {
      "image/png": "[encoded data removed]",
      "text/plain": [
       "<Figure size 432x288 with 1 Axes>"
      ]
     },
     "metadata": {},
     "output_type": "display_data"
    }
   ],
   "source": [
    "ax = sns.boxplot(x = df.life_sq)"
   ]
  },
  {
   "cell_type": "code",
   "execution_count": 27,
   "id": "failing-softball",
   "metadata": {},
   "outputs": [
    {
     "data": {
      "image/png": "[encoded data removed]",
      "text/plain": [
       "<Figure size 432x288 with 1 Axes>"
      ]
     },
     "metadata": {},
     "output_type": "display_data"
    }
   ],
   "source": [
    "ax = sns.boxplot(x = df.floor)"
   ]
  },
  {
   "cell_type": "code",
   "execution_count": null,
   "id": "composite-strengthening",
   "metadata": {},
   "outputs": [],
   "source": []
  },
  {
   "cell_type": "code",
   "execution_count": null,
   "id": "remarkable-programmer",
   "metadata": {},
   "outputs": [],
   "source": []
  },
  {
   "cell_type": "code",
   "execution_count": null,
   "id": "olive-president",
   "metadata": {},
   "outputs": [],
   "source": []
  },
  {
   "cell_type": "code",
   "execution_count": null,
   "id": "first-finding",
   "metadata": {},
   "outputs": [],
   "source": []
  },
  {
   "cell_type": "code",
   "execution_count": null,
   "id": "sustainable-smoke",
   "metadata": {},
   "outputs": [],
   "source": []
  },
  {
   "cell_type": "code",
   "execution_count": null,
   "id": "composite-review",
   "metadata": {},
   "outputs": [],
   "source": []
  },
  {
   "cell_type": "code",
   "execution_count": 27,
   "id": "crucial-country",
   "metadata": {},
   "outputs": [
    {
     "data": {
      "text/plain": [
       "(30471, 292)"
      ]
     },
     "execution_count": 27,
     "metadata": {},
     "output_type": "execute_result"
    }
   ],
   "source": [
    "df.shape"
   ]
  },
  {
   "cell_type": "code",
   "execution_count": 22,
   "id": "covered-cooperative",
   "metadata": {},
   "outputs": [],
   "source": [
    "df_date = pd.read_pickle('macroeconomic.pkl')"
   ]
  },
  {
   "cell_type": "code",
   "execution_count": 23,
   "id": "global-revision",
   "metadata": {},
   "outputs": [],
   "source": [
    "df_complete = df.merge(df_date, how='left', left_on='timestamp', right_on='timestamp')"
   ]
  },
  {
   "cell_type": "code",
   "execution_count": 24,
   "id": "micro-european",
   "metadata": {
    "scrolled": true
   },
   "outputs": [
    {
     "data": {
      "text/html": [
       "<div>\n",
       "<style scoped>\n",
       "    .dataframe tbody tr th:only-of-type {\n",
       "        vertical-align: middle;\n",
       "    }\n",
       "\n",
       "    .dataframe tbody tr th {\n",
       "        vertical-align: top;\n",
       "    }\n",
       "\n",
       "    .dataframe thead th {\n",
       "        text-align: right;\n",
       "    }\n",
       "</style>\n",
       "<table border=\"1\" class=\"dataframe\">\n",
       "  <thead>\n",
       "    <tr style=\"text-align: right;\">\n",
       "      <th></th>\n",
       "      <th>id</th>\n",
       "      <th>timestamp</th>\n",
       "      <th>full_sq</th>\n",
       "      <th>life_sq</th>\n",
       "      <th>floor</th>\n",
       "      <th>max_floor</th>\n",
       "      <th>material</th>\n",
       "      <th>build_year</th>\n",
       "      <th>num_room</th>\n",
       "      <th>kitch_sq</th>\n",
       "      <th>...</th>\n",
       "      <th>rent_price_1room_eco</th>\n",
       "      <th>load_of_teachers_preschool_per_teacher</th>\n",
       "      <th>students_state_oneshift</th>\n",
       "      <th>provision_nurse</th>\n",
       "      <th>load_on_doctors</th>\n",
       "      <th>hospital_beds_available_per_cap</th>\n",
       "      <th>hospital_bed_occupancy_per_year</th>\n",
       "      <th>seats_theather_rfmin_per_100000_cap</th>\n",
       "      <th>population_reg_sports_share</th>\n",
       "      <th>apartment_fund_sqm</th>\n",
       "    </tr>\n",
       "  </thead>\n",
       "  <tbody>\n",
       "    <tr>\n",
       "      <th>0</th>\n",
       "      <td>1</td>\n",
       "      <td>2011-08-20</td>\n",
       "      <td>43</td>\n",
       "      <td>27.0</td>\n",
       "      <td>4.0</td>\n",
       "      <td>NaN</td>\n",
       "      <td>NaN</td>\n",
       "      <td>NaN</td>\n",
       "      <td>NaN</td>\n",
       "      <td>NaN</td>\n",
       "      <td>...</td>\n",
       "      <td>29.07</td>\n",
       "      <td>793.319561</td>\n",
       "      <td>89.0495</td>\n",
       "      <td>99.6</td>\n",
       "      <td>8180.755454</td>\n",
       "      <td>846.0</td>\n",
       "      <td>302.0</td>\n",
       "      <td>0.45356</td>\n",
       "      <td>22.37</td>\n",
       "      <td>230310.0</td>\n",
       "    </tr>\n",
       "    <tr>\n",
       "      <th>1</th>\n",
       "      <td>2</td>\n",
       "      <td>2011-08-23</td>\n",
       "      <td>34</td>\n",
       "      <td>19.0</td>\n",
       "      <td>3.0</td>\n",
       "      <td>NaN</td>\n",
       "      <td>NaN</td>\n",
       "      <td>NaN</td>\n",
       "      <td>NaN</td>\n",
       "      <td>NaN</td>\n",
       "      <td>...</td>\n",
       "      <td>29.07</td>\n",
       "      <td>793.319561</td>\n",
       "      <td>89.0495</td>\n",
       "      <td>99.6</td>\n",
       "      <td>8180.755454</td>\n",
       "      <td>846.0</td>\n",
       "      <td>302.0</td>\n",
       "      <td>0.45356</td>\n",
       "      <td>22.37</td>\n",
       "      <td>230310.0</td>\n",
       "    </tr>\n",
       "    <tr>\n",
       "      <th>2</th>\n",
       "      <td>3</td>\n",
       "      <td>2011-08-27</td>\n",
       "      <td>43</td>\n",
       "      <td>29.0</td>\n",
       "      <td>2.0</td>\n",
       "      <td>NaN</td>\n",
       "      <td>NaN</td>\n",
       "      <td>NaN</td>\n",
       "      <td>NaN</td>\n",
       "      <td>NaN</td>\n",
       "      <td>...</td>\n",
       "      <td>29.07</td>\n",
       "      <td>793.319561</td>\n",
       "      <td>89.0495</td>\n",
       "      <td>99.6</td>\n",
       "      <td>8180.755454</td>\n",
       "      <td>846.0</td>\n",
       "      <td>302.0</td>\n",
       "      <td>0.45356</td>\n",
       "      <td>22.37</td>\n",
       "      <td>230310.0</td>\n",
       "    </tr>\n",
       "    <tr>\n",
       "      <th>3</th>\n",
       "      <td>4</td>\n",
       "      <td>2011-09-01</td>\n",
       "      <td>89</td>\n",
       "      <td>50.0</td>\n",
       "      <td>9.0</td>\n",
       "      <td>NaN</td>\n",
       "      <td>NaN</td>\n",
       "      <td>NaN</td>\n",
       "      <td>NaN</td>\n",
       "      <td>NaN</td>\n",
       "      <td>...</td>\n",
       "      <td>30.63</td>\n",
       "      <td>793.319561</td>\n",
       "      <td>89.0495</td>\n",
       "      <td>99.6</td>\n",
       "      <td>8180.755454</td>\n",
       "      <td>846.0</td>\n",
       "      <td>302.0</td>\n",
       "      <td>0.45356</td>\n",
       "      <td>22.37</td>\n",
       "      <td>230310.0</td>\n",
       "    </tr>\n",
       "    <tr>\n",
       "      <th>4</th>\n",
       "      <td>5</td>\n",
       "      <td>2011-09-05</td>\n",
       "      <td>77</td>\n",
       "      <td>77.0</td>\n",
       "      <td>4.0</td>\n",
       "      <td>NaN</td>\n",
       "      <td>NaN</td>\n",
       "      <td>NaN</td>\n",
       "      <td>NaN</td>\n",
       "      <td>NaN</td>\n",
       "      <td>...</td>\n",
       "      <td>30.63</td>\n",
       "      <td>793.319561</td>\n",
       "      <td>89.0495</td>\n",
       "      <td>99.6</td>\n",
       "      <td>8180.755454</td>\n",
       "      <td>846.0</td>\n",
       "      <td>302.0</td>\n",
       "      <td>0.45356</td>\n",
       "      <td>22.37</td>\n",
       "      <td>230310.0</td>\n",
       "    </tr>\n",
       "  </tbody>\n",
       "</table>\n",
       "<p>5 rows × 340 columns</p>\n",
       "</div>"
      ],
      "text/plain": [
       "   id   timestamp  full_sq  life_sq  floor  max_floor  material  build_year  \\\n",
       "0   1  2011-08-20       43     27.0    4.0        NaN       NaN         NaN   \n",
       "1   2  2011-08-23       34     19.0    3.0        NaN       NaN         NaN   \n",
       "2   3  2011-08-27       43     29.0    2.0        NaN       NaN         NaN   \n",
       "3   4  2011-09-01       89     50.0    9.0        NaN       NaN         NaN   \n",
       "4   5  2011-09-05       77     77.0    4.0        NaN       NaN         NaN   \n",
       "\n",
       "   num_room  kitch_sq  ...  rent_price_1room_eco  \\\n",
       "0       NaN       NaN  ...                 29.07   \n",
       "1       NaN       NaN  ...                 29.07   \n",
       "2       NaN       NaN  ...                 29.07   \n",
       "3       NaN       NaN  ...                 30.63   \n",
       "4       NaN       NaN  ...                 30.63   \n",
       "\n",
       "  load_of_teachers_preschool_per_teacher students_state_oneshift  \\\n",
       "0                             793.319561                 89.0495   \n",
       "1                             793.319561                 89.0495   \n",
       "2                             793.319561                 89.0495   \n",
       "3                             793.319561                 89.0495   \n",
       "4                             793.319561                 89.0495   \n",
       "\n",
       "   provision_nurse  load_on_doctors  hospital_beds_available_per_cap  \\\n",
       "0             99.6      8180.755454                            846.0   \n",
       "1             99.6      8180.755454                            846.0   \n",
       "2             99.6      8180.755454                            846.0   \n",
       "3             99.6      8180.755454                            846.0   \n",
       "4             99.6      8180.755454                            846.0   \n",
       "\n",
       "   hospital_bed_occupancy_per_year  seats_theather_rfmin_per_100000_cap  \\\n",
       "0                            302.0                              0.45356   \n",
       "1                            302.0                              0.45356   \n",
       "2                            302.0                              0.45356   \n",
       "3                            302.0                              0.45356   \n",
       "4                            302.0                              0.45356   \n",
       "\n",
       "   population_reg_sports_share  apartment_fund_sqm  \n",
       "0                        22.37            230310.0  \n",
       "1                        22.37            230310.0  \n",
       "2                        22.37            230310.0  \n",
       "3                        22.37            230310.0  \n",
       "4                        22.37            230310.0  \n",
       "\n",
       "[5 rows x 340 columns]"
      ]
     },
     "execution_count": 24,
     "metadata": {},
     "output_type": "execute_result"
    }
   ],
   "source": [
    "df_complete.head()"
   ]
  },
  {
   "cell_type": "code",
   "execution_count": 26,
   "id": "affecting-championship",
   "metadata": {},
   "outputs": [
    {
     "data": {
      "text/plain": [
       "(30471, 340)"
      ]
     },
     "execution_count": 26,
     "metadata": {},
     "output_type": "execute_result"
    }
   ],
   "source": [
    "df_complete.shape"
   ]
  },
  {
   "cell_type": "code",
   "execution_count": null,
   "id": "reflected-affair",
   "metadata": {},
   "outputs": [],
   "source": []
  },
  {
   "cell_type": "code",
   "execution_count": null,
   "id": "manufactured-description",
   "metadata": {},
   "outputs": [],
   "source": []
  },
  {
   "cell_type": "code",
   "execution_count": null,
   "id": "handmade-thunder",
   "metadata": {},
   "outputs": [],
   "source": []
  },
  {
   "cell_type": "code",
   "execution_count": null,
   "id": "treated-melbourne",
   "metadata": {},
   "outputs": [],
   "source": [
    "X, y = process(df)"
   ]
  },
  {
   "cell_type": "code",
   "execution_count": null,
   "id": "sophisticated-showcase",
   "metadata": {},
   "outputs": [],
   "source": [
    "X_train, y_train, X_valid, y_valid = train_test_split(X, y, test_size = 0.33, random_state = 33)"
   ]
  },
  {
   "cell_type": "code",
   "execution_count": null,
   "id": "banner-missile",
   "metadata": {},
   "outputs": [],
   "source": []
  },
  {
   "cell_type": "code",
   "execution_count": null,
   "id": "norman-vulnerability",
   "metadata": {},
   "outputs": [],
   "source": []
  },
  {
   "cell_type": "code",
   "execution_count": null,
   "id": "superior-peace",
   "metadata": {},
   "outputs": [],
   "source": []
  },
  {
   "cell_type": "code",
   "execution_count": null,
   "id": "inappropriate-geology",
   "metadata": {},
   "outputs": [],
   "source": []
  },
  {
   "cell_type": "code",
   "execution_count": null,
   "id": "instructional-outreach",
   "metadata": {},
   "outputs": [],
   "source": []
  },
  {
   "cell_type": "code",
   "execution_count": null,
   "id": "million-transparency",
   "metadata": {},
   "outputs": [],
   "source": []
  },
  {
   "cell_type": "code",
   "execution_count": null,
   "id": "joined-clearance",
   "metadata": {},
   "outputs": [],
   "source": []
  },
  {
   "cell_type": "code",
   "execution_count": null,
   "id": "widespread-thermal",
   "metadata": {},
   "outputs": [],
   "source": []
  },
  {
   "cell_type": "code",
   "execution_count": null,
   "id": "loaded-radiation",
   "metadata": {},
   "outputs": [],
   "source": []
  }
 ],
 "metadata": {
  "kernelspec": {
   "display_name": "Python 3",
   "language": "python",
   "name": "python3"
  },
  "language_info": {
   "codemirror_mode": {
    "name": "ipython",
    "version": 3
   },
   "file_extension": ".py",
   "mimetype": "text/x-python",
   "name": "python",
   "nbconvert_exporter": "python",
   "pygments_lexer": "ipython3",
   "version": "3.9.1"
  }
 },
 "nbformat": 4,
 "nbformat_minor": 5
}
