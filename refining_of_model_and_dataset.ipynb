{
 "cells": [
  {
   "cell_type": "markdown",
   "id": "convertible-solomon",
   "metadata": {},
   "source": [
    "## Улучшение модели"
   ]
  },
  {
   "cell_type": "markdown",
   "id": "beautiful-toyota",
   "metadata": {},
   "source": [
    "Испоьзуя данные из предыдущего файла попробуем ограничить количество признаков и сравнить качество предсказания для модели с ограниченным количеством признаков.  \n",
    "Для этого вначале используем обычный препроцессинг, а затем обрежем датасет с учетом опрделенной мажности признаков."
   ]
  },
  {
   "cell_type": "code",
   "execution_count": 1,
   "id": "taken-blackjack",
   "metadata": {},
   "outputs": [],
   "source": [
    "import numpy as np\n",
    "import pandas as pd"
   ]
  },
  {
   "cell_type": "code",
   "execution_count": 12,
   "id": "judicial-hawaii",
   "metadata": {},
   "outputs": [],
   "source": [
    "pd.options.mode.chained_assignment = None"
   ]
  },
  {
   "cell_type": "code",
   "execution_count": 2,
   "id": "conservative-cheat",
   "metadata": {},
   "outputs": [],
   "source": [
    "import pickle"
   ]
  },
  {
   "cell_type": "code",
   "execution_count": 3,
   "id": "strong-qualification",
   "metadata": {},
   "outputs": [],
   "source": [
    "import catboost"
   ]
  },
  {
   "cell_type": "code",
   "execution_count": 4,
   "id": "black-equality",
   "metadata": {},
   "outputs": [],
   "source": [
    "from ipynb.fs.full import process_functions as func"
   ]
  },
  {
   "cell_type": "code",
   "execution_count": 5,
   "id": "intermediate-wallpaper",
   "metadata": {},
   "outputs": [],
   "source": [
    "import importlib"
   ]
  },
  {
   "cell_type": "code",
   "execution_count": 6,
   "id": "major-preparation",
   "metadata": {},
   "outputs": [
    {
     "data": {
      "text/plain": [
       "<module 'ipynb.fs.full.process_functions' (D:\\Learning\\GeekBrains\\_Final Project\\process_functions.ipynb)>"
      ]
     },
     "execution_count": 6,
     "metadata": {},
     "output_type": "execute_result"
    }
   ],
   "source": [
    "importlib.reload(func)"
   ]
  },
  {
   "cell_type": "code",
   "execution_count": 224,
   "id": "neural-abraham",
   "metadata": {},
   "outputs": [],
   "source": [
    "from sklearn.model_selection import train_test_split"
   ]
  },
  {
   "cell_type": "code",
   "execution_count": null,
   "id": "northern-increase",
   "metadata": {},
   "outputs": [],
   "source": []
  },
  {
   "cell_type": "markdown",
   "id": "distinguished-uganda",
   "metadata": {},
   "source": [
    "Загрузим и проанализируем важность признаков для последующего удаления малозначимых."
   ]
  },
  {
   "cell_type": "code",
   "execution_count": 185,
   "id": "stopped-contrary",
   "metadata": {},
   "outputs": [],
   "source": [
    "importances = pd.read_csv('feature_importances.csv')"
   ]
  },
  {
   "cell_type": "code",
   "execution_count": 186,
   "id": "representative-stanley",
   "metadata": {
    "scrolled": true
   },
   "outputs": [
    {
     "data": {
      "text/html": [
       "<div>\n",
       "<style scoped>\n",
       "    .dataframe tbody tr th:only-of-type {\n",
       "        vertical-align: middle;\n",
       "    }\n",
       "\n",
       "    .dataframe tbody tr th {\n",
       "        vertical-align: top;\n",
       "    }\n",
       "\n",
       "    .dataframe thead th {\n",
       "        text-align: right;\n",
       "    }\n",
       "</style>\n",
       "<table border=\"1\" class=\"dataframe\">\n",
       "  <thead>\n",
       "    <tr style=\"text-align: right;\">\n",
       "      <th></th>\n",
       "      <th>features</th>\n",
       "      <th>importance</th>\n",
       "    </tr>\n",
       "  </thead>\n",
       "  <tbody>\n",
       "    <tr>\n",
       "      <th>0</th>\n",
       "      <td>full_sq</td>\n",
       "      <td>40.565687</td>\n",
       "    </tr>\n",
       "    <tr>\n",
       "      <th>1</th>\n",
       "      <td>life_sq</td>\n",
       "      <td>0.757903</td>\n",
       "    </tr>\n",
       "    <tr>\n",
       "      <th>2</th>\n",
       "      <td>floor</td>\n",
       "      <td>1.038487</td>\n",
       "    </tr>\n",
       "    <tr>\n",
       "      <th>3</th>\n",
       "      <td>material</td>\n",
       "      <td>0.284146</td>\n",
       "    </tr>\n",
       "    <tr>\n",
       "      <th>4</th>\n",
       "      <td>build_year</td>\n",
       "      <td>1.832796</td>\n",
       "    </tr>\n",
       "  </tbody>\n",
       "</table>\n",
       "</div>"
      ],
      "text/plain": [
       "     features  importance\n",
       "0     full_sq   40.565687\n",
       "1     life_sq    0.757903\n",
       "2       floor    1.038487\n",
       "3    material    0.284146\n",
       "4  build_year    1.832796"
      ]
     },
     "execution_count": 186,
     "metadata": {},
     "output_type": "execute_result"
    }
   ],
   "source": [
    "importances.head()"
   ]
  },
  {
   "cell_type": "code",
   "execution_count": 187,
   "id": "specified-seating",
   "metadata": {},
   "outputs": [],
   "source": [
    "importances = importances.sort_values(by=['importance'], ascending=False)"
   ]
  },
  {
   "cell_type": "code",
   "execution_count": 188,
   "id": "incorrect-azerbaijan",
   "metadata": {},
   "outputs": [
    {
     "data": {
      "text/plain": [
       "(288, 2)"
      ]
     },
     "execution_count": 188,
     "metadata": {},
     "output_type": "execute_result"
    }
   ],
   "source": [
    "importances.shape"
   ]
  },
  {
   "cell_type": "code",
   "execution_count": 189,
   "id": "peripheral-receipt",
   "metadata": {},
   "outputs": [
    {
     "data": {
      "text/html": [
       "<div>\n",
       "<style scoped>\n",
       "    .dataframe tbody tr th:only-of-type {\n",
       "        vertical-align: middle;\n",
       "    }\n",
       "\n",
       "    .dataframe tbody tr th {\n",
       "        vertical-align: top;\n",
       "    }\n",
       "\n",
       "    .dataframe thead th {\n",
       "        text-align: right;\n",
       "    }\n",
       "</style>\n",
       "<table border=\"1\" class=\"dataframe\">\n",
       "  <thead>\n",
       "    <tr style=\"text-align: right;\">\n",
       "      <th></th>\n",
       "      <th>features</th>\n",
       "      <th>importance</th>\n",
       "    </tr>\n",
       "  </thead>\n",
       "  <tbody>\n",
       "    <tr>\n",
       "      <th>0</th>\n",
       "      <td>full_sq</td>\n",
       "      <td>40.565687</td>\n",
       "    </tr>\n",
       "    <tr>\n",
       "      <th>7</th>\n",
       "      <td>state</td>\n",
       "      <td>2.486626</td>\n",
       "    </tr>\n",
       "    <tr>\n",
       "      <th>6</th>\n",
       "      <td>kitch_sq</td>\n",
       "      <td>1.836963</td>\n",
       "    </tr>\n",
       "    <tr>\n",
       "      <th>4</th>\n",
       "      <td>build_year</td>\n",
       "      <td>1.832796</td>\n",
       "    </tr>\n",
       "    <tr>\n",
       "      <th>5</th>\n",
       "      <td>num_room</td>\n",
       "      <td>1.714835</td>\n",
       "    </tr>\n",
       "    <tr>\n",
       "      <th>281</th>\n",
       "      <td>cafe_count_5000_price_high</td>\n",
       "      <td>1.621309</td>\n",
       "    </tr>\n",
       "    <tr>\n",
       "      <th>227</th>\n",
       "      <td>cafe_sum_2000_max_price_avg</td>\n",
       "      <td>1.595274</td>\n",
       "    </tr>\n",
       "    <tr>\n",
       "      <th>225</th>\n",
       "      <td>cafe_count_2000</td>\n",
       "      <td>1.390217</td>\n",
       "    </tr>\n",
       "    <tr>\n",
       "      <th>105</th>\n",
       "      <td>ttk_km</td>\n",
       "      <td>1.192754</td>\n",
       "    </tr>\n",
       "    <tr>\n",
       "      <th>233</th>\n",
       "      <td>cafe_count_2000_price_2500</td>\n",
       "      <td>1.160971</td>\n",
       "    </tr>\n",
       "  </tbody>\n",
       "</table>\n",
       "</div>"
      ],
      "text/plain": [
       "                        features  importance\n",
       "0                        full_sq   40.565687\n",
       "7                          state    2.486626\n",
       "6                       kitch_sq    1.836963\n",
       "4                     build_year    1.832796\n",
       "5                       num_room    1.714835\n",
       "281   cafe_count_5000_price_high    1.621309\n",
       "227  cafe_sum_2000_max_price_avg    1.595274\n",
       "225              cafe_count_2000    1.390217\n",
       "105                       ttk_km    1.192754\n",
       "233   cafe_count_2000_price_2500    1.160971"
      ]
     },
     "execution_count": 189,
     "metadata": {},
     "output_type": "execute_result"
    }
   ],
   "source": [
    "importances.head(10)"
   ]
  },
  {
   "cell_type": "markdown",
   "id": "inclusive-orbit",
   "metadata": {},
   "source": [
    "На основании выведенного фрагмента датафрэйма четко видно, что наиболее значительное влияние имеет площадь жилья (full_sq). \n",
    "Остальные факторы намного менее значимы.\n",
    "Поставим условную границу для отсечения малозначимых признаков в виде 1.0"
   ]
  },
  {
   "cell_type": "code",
   "execution_count": 190,
   "id": "formal-carnival",
   "metadata": {},
   "outputs": [],
   "source": [
    "importances = importances[importances['importance'] > 1.0]"
   ]
  },
  {
   "cell_type": "code",
   "execution_count": 191,
   "id": "caring-shuttle",
   "metadata": {
    "scrolled": true
   },
   "outputs": [
    {
     "data": {
      "text/plain": [
       "(11, 2)"
      ]
     },
     "execution_count": 191,
     "metadata": {},
     "output_type": "execute_result"
    }
   ],
   "source": [
    "importances.shape"
   ]
  },
  {
   "cell_type": "code",
   "execution_count": 192,
   "id": "loaded-parade",
   "metadata": {},
   "outputs": [],
   "source": [
    "features_list = importances['features'].to_list()"
   ]
  },
  {
   "cell_type": "code",
   "execution_count": 193,
   "id": "pleasant-baseball",
   "metadata": {},
   "outputs": [
    {
     "data": {
      "text/html": [
       "<div>\n",
       "<style scoped>\n",
       "    .dataframe tbody tr th:only-of-type {\n",
       "        vertical-align: middle;\n",
       "    }\n",
       "\n",
       "    .dataframe tbody tr th {\n",
       "        vertical-align: top;\n",
       "    }\n",
       "\n",
       "    .dataframe thead th {\n",
       "        text-align: right;\n",
       "    }\n",
       "</style>\n",
       "<table border=\"1\" class=\"dataframe\">\n",
       "  <thead>\n",
       "    <tr style=\"text-align: right;\">\n",
       "      <th></th>\n",
       "      <th>features</th>\n",
       "      <th>importance</th>\n",
       "    </tr>\n",
       "  </thead>\n",
       "  <tbody>\n",
       "    <tr>\n",
       "      <th>0</th>\n",
       "      <td>full_sq</td>\n",
       "      <td>40.565687</td>\n",
       "    </tr>\n",
       "    <tr>\n",
       "      <th>7</th>\n",
       "      <td>state</td>\n",
       "      <td>2.486626</td>\n",
       "    </tr>\n",
       "    <tr>\n",
       "      <th>6</th>\n",
       "      <td>kitch_sq</td>\n",
       "      <td>1.836963</td>\n",
       "    </tr>\n",
       "    <tr>\n",
       "      <th>4</th>\n",
       "      <td>build_year</td>\n",
       "      <td>1.832796</td>\n",
       "    </tr>\n",
       "    <tr>\n",
       "      <th>5</th>\n",
       "      <td>num_room</td>\n",
       "      <td>1.714835</td>\n",
       "    </tr>\n",
       "    <tr>\n",
       "      <th>281</th>\n",
       "      <td>cafe_count_5000_price_high</td>\n",
       "      <td>1.621309</td>\n",
       "    </tr>\n",
       "    <tr>\n",
       "      <th>227</th>\n",
       "      <td>cafe_sum_2000_max_price_avg</td>\n",
       "      <td>1.595274</td>\n",
       "    </tr>\n",
       "    <tr>\n",
       "      <th>225</th>\n",
       "      <td>cafe_count_2000</td>\n",
       "      <td>1.390217</td>\n",
       "    </tr>\n",
       "    <tr>\n",
       "      <th>105</th>\n",
       "      <td>ttk_km</td>\n",
       "      <td>1.192754</td>\n",
       "    </tr>\n",
       "    <tr>\n",
       "      <th>233</th>\n",
       "      <td>cafe_count_2000_price_2500</td>\n",
       "      <td>1.160971</td>\n",
       "    </tr>\n",
       "    <tr>\n",
       "      <th>2</th>\n",
       "      <td>floor</td>\n",
       "      <td>1.038487</td>\n",
       "    </tr>\n",
       "  </tbody>\n",
       "</table>\n",
       "</div>"
      ],
      "text/plain": [
       "                        features  importance\n",
       "0                        full_sq   40.565687\n",
       "7                          state    2.486626\n",
       "6                       kitch_sq    1.836963\n",
       "4                     build_year    1.832796\n",
       "5                       num_room    1.714835\n",
       "281   cafe_count_5000_price_high    1.621309\n",
       "227  cafe_sum_2000_max_price_avg    1.595274\n",
       "225              cafe_count_2000    1.390217\n",
       "105                       ttk_km    1.192754\n",
       "233   cafe_count_2000_price_2500    1.160971\n",
       "2                          floor    1.038487"
      ]
     },
     "execution_count": 193,
     "metadata": {},
     "output_type": "execute_result"
    }
   ],
   "source": [
    "importances.head(12)"
   ]
  },
  {
   "cell_type": "markdown",
   "id": "unavailable-butler",
   "metadata": {},
   "source": [
    "#### Обработка датасета с учетом важности признаков."
   ]
  },
  {
   "cell_type": "markdown",
   "id": "tight-embassy",
   "metadata": {},
   "source": [
    "Загрузим еще раз исходный датасет и повторим препроцессинг обрезав малозначимые признаки"
   ]
  },
  {
   "cell_type": "code",
   "execution_count": 183,
   "id": "traditional-teacher",
   "metadata": {},
   "outputs": [],
   "source": [
    "df = pd.read_csv('project_data/attempt_4/train.csv')"
   ]
  },
  {
   "cell_type": "code",
   "execution_count": 184,
   "id": "published-spanish",
   "metadata": {},
   "outputs": [
    {
     "data": {
      "text/html": [
       "<div>\n",
       "<style scoped>\n",
       "    .dataframe tbody tr th:only-of-type {\n",
       "        vertical-align: middle;\n",
       "    }\n",
       "\n",
       "    .dataframe tbody tr th {\n",
       "        vertical-align: top;\n",
       "    }\n",
       "\n",
       "    .dataframe thead th {\n",
       "        text-align: right;\n",
       "    }\n",
       "</style>\n",
       "<table border=\"1\" class=\"dataframe\">\n",
       "  <thead>\n",
       "    <tr style=\"text-align: right;\">\n",
       "      <th></th>\n",
       "      <th>id</th>\n",
       "      <th>timestamp</th>\n",
       "      <th>full_sq</th>\n",
       "      <th>life_sq</th>\n",
       "      <th>floor</th>\n",
       "      <th>max_floor</th>\n",
       "      <th>material</th>\n",
       "      <th>build_year</th>\n",
       "      <th>num_room</th>\n",
       "      <th>kitch_sq</th>\n",
       "      <th>...</th>\n",
       "      <th>cafe_count_5000_price_2500</th>\n",
       "      <th>cafe_count_5000_price_4000</th>\n",
       "      <th>cafe_count_5000_price_high</th>\n",
       "      <th>big_church_count_5000</th>\n",
       "      <th>church_count_5000</th>\n",
       "      <th>mosque_count_5000</th>\n",
       "      <th>leisure_count_5000</th>\n",
       "      <th>sport_count_5000</th>\n",
       "      <th>market_count_5000</th>\n",
       "      <th>price_doc</th>\n",
       "    </tr>\n",
       "  </thead>\n",
       "  <tbody>\n",
       "    <tr>\n",
       "      <th>0</th>\n",
       "      <td>1</td>\n",
       "      <td>2011-08-20</td>\n",
       "      <td>43</td>\n",
       "      <td>27.0</td>\n",
       "      <td>4.0</td>\n",
       "      <td>NaN</td>\n",
       "      <td>NaN</td>\n",
       "      <td>NaN</td>\n",
       "      <td>NaN</td>\n",
       "      <td>NaN</td>\n",
       "      <td>...</td>\n",
       "      <td>9</td>\n",
       "      <td>4</td>\n",
       "      <td>0</td>\n",
       "      <td>13</td>\n",
       "      <td>22</td>\n",
       "      <td>1</td>\n",
       "      <td>0</td>\n",
       "      <td>52</td>\n",
       "      <td>4</td>\n",
       "      <td>5850000</td>\n",
       "    </tr>\n",
       "    <tr>\n",
       "      <th>1</th>\n",
       "      <td>2</td>\n",
       "      <td>2011-08-23</td>\n",
       "      <td>34</td>\n",
       "      <td>19.0</td>\n",
       "      <td>3.0</td>\n",
       "      <td>NaN</td>\n",
       "      <td>NaN</td>\n",
       "      <td>NaN</td>\n",
       "      <td>NaN</td>\n",
       "      <td>NaN</td>\n",
       "      <td>...</td>\n",
       "      <td>15</td>\n",
       "      <td>3</td>\n",
       "      <td>0</td>\n",
       "      <td>15</td>\n",
       "      <td>29</td>\n",
       "      <td>1</td>\n",
       "      <td>10</td>\n",
       "      <td>66</td>\n",
       "      <td>14</td>\n",
       "      <td>6000000</td>\n",
       "    </tr>\n",
       "    <tr>\n",
       "      <th>2</th>\n",
       "      <td>3</td>\n",
       "      <td>2011-08-27</td>\n",
       "      <td>43</td>\n",
       "      <td>29.0</td>\n",
       "      <td>2.0</td>\n",
       "      <td>NaN</td>\n",
       "      <td>NaN</td>\n",
       "      <td>NaN</td>\n",
       "      <td>NaN</td>\n",
       "      <td>NaN</td>\n",
       "      <td>...</td>\n",
       "      <td>10</td>\n",
       "      <td>3</td>\n",
       "      <td>0</td>\n",
       "      <td>11</td>\n",
       "      <td>27</td>\n",
       "      <td>0</td>\n",
       "      <td>4</td>\n",
       "      <td>67</td>\n",
       "      <td>10</td>\n",
       "      <td>5700000</td>\n",
       "    </tr>\n",
       "    <tr>\n",
       "      <th>3</th>\n",
       "      <td>4</td>\n",
       "      <td>2011-09-01</td>\n",
       "      <td>89</td>\n",
       "      <td>50.0</td>\n",
       "      <td>9.0</td>\n",
       "      <td>NaN</td>\n",
       "      <td>NaN</td>\n",
       "      <td>NaN</td>\n",
       "      <td>NaN</td>\n",
       "      <td>NaN</td>\n",
       "      <td>...</td>\n",
       "      <td>11</td>\n",
       "      <td>2</td>\n",
       "      <td>1</td>\n",
       "      <td>4</td>\n",
       "      <td>4</td>\n",
       "      <td>0</td>\n",
       "      <td>0</td>\n",
       "      <td>26</td>\n",
       "      <td>3</td>\n",
       "      <td>13100000</td>\n",
       "    </tr>\n",
       "    <tr>\n",
       "      <th>4</th>\n",
       "      <td>5</td>\n",
       "      <td>2011-09-05</td>\n",
       "      <td>77</td>\n",
       "      <td>77.0</td>\n",
       "      <td>4.0</td>\n",
       "      <td>NaN</td>\n",
       "      <td>NaN</td>\n",
       "      <td>NaN</td>\n",
       "      <td>NaN</td>\n",
       "      <td>NaN</td>\n",
       "      <td>...</td>\n",
       "      <td>319</td>\n",
       "      <td>108</td>\n",
       "      <td>17</td>\n",
       "      <td>135</td>\n",
       "      <td>236</td>\n",
       "      <td>2</td>\n",
       "      <td>91</td>\n",
       "      <td>195</td>\n",
       "      <td>14</td>\n",
       "      <td>16331452</td>\n",
       "    </tr>\n",
       "  </tbody>\n",
       "</table>\n",
       "<p>5 rows × 292 columns</p>\n",
       "</div>"
      ],
      "text/plain": [
       "   id   timestamp  full_sq  life_sq  floor  max_floor  material  build_year  \\\n",
       "0   1  2011-08-20       43     27.0    4.0        NaN       NaN         NaN   \n",
       "1   2  2011-08-23       34     19.0    3.0        NaN       NaN         NaN   \n",
       "2   3  2011-08-27       43     29.0    2.0        NaN       NaN         NaN   \n",
       "3   4  2011-09-01       89     50.0    9.0        NaN       NaN         NaN   \n",
       "4   5  2011-09-05       77     77.0    4.0        NaN       NaN         NaN   \n",
       "\n",
       "   num_room  kitch_sq  ...  cafe_count_5000_price_2500  \\\n",
       "0       NaN       NaN  ...                           9   \n",
       "1       NaN       NaN  ...                          15   \n",
       "2       NaN       NaN  ...                          10   \n",
       "3       NaN       NaN  ...                          11   \n",
       "4       NaN       NaN  ...                         319   \n",
       "\n",
       "  cafe_count_5000_price_4000 cafe_count_5000_price_high  \\\n",
       "0                          4                          0   \n",
       "1                          3                          0   \n",
       "2                          3                          0   \n",
       "3                          2                          1   \n",
       "4                        108                         17   \n",
       "\n",
       "   big_church_count_5000  church_count_5000  mosque_count_5000  \\\n",
       "0                     13                 22                  1   \n",
       "1                     15                 29                  1   \n",
       "2                     11                 27                  0   \n",
       "3                      4                  4                  0   \n",
       "4                    135                236                  2   \n",
       "\n",
       "   leisure_count_5000  sport_count_5000  market_count_5000  price_doc  \n",
       "0                   0                52                  4    5850000  \n",
       "1                  10                66                 14    6000000  \n",
       "2                   4                67                 10    5700000  \n",
       "3                   0                26                  3   13100000  \n",
       "4                  91               195                 14   16331452  \n",
       "\n",
       "[5 rows x 292 columns]"
      ]
     },
     "execution_count": 184,
     "metadata": {},
     "output_type": "execute_result"
    }
   ],
   "source": [
    "df.head()"
   ]
  },
  {
   "cell_type": "code",
   "execution_count": 146,
   "id": "forward-disposal",
   "metadata": {},
   "outputs": [],
   "source": [
    "with open('mean_values.pickle', 'rb') as f:\n",
    "            means_dict = pickle.load(f)"
   ]
  },
  {
   "cell_type": "code",
   "execution_count": 147,
   "id": "green-harassment",
   "metadata": {
    "scrolled": true
   },
   "outputs": [
    {
     "data": {
      "text/plain": [
       "{'full_sq': 54.11184513245251,\n",
       " 'life_sq': 35.99719165274595,\n",
       " 'kitch_sq': 6.2605214278464585,\n",
       " 'floor': 8.0,\n",
       " 'num_room': 2.0}"
      ]
     },
     "execution_count": 147,
     "metadata": {},
     "output_type": "execute_result"
    }
   ],
   "source": [
    " means_dict"
   ]
  },
  {
   "cell_type": "code",
   "execution_count": 148,
   "id": "small-musician",
   "metadata": {},
   "outputs": [
    {
     "data": {
      "text/plain": [
       "['full_sq',\n",
       " 'state',\n",
       " 'kitch_sq',\n",
       " 'build_year',\n",
       " 'num_room',\n",
       " 'cafe_count_5000_price_high',\n",
       " 'cafe_sum_2000_max_price_avg',\n",
       " 'cafe_count_2000',\n",
       " 'ttk_km',\n",
       " 'cafe_count_2000_price_2500',\n",
       " 'floor']"
      ]
     },
     "execution_count": 148,
     "metadata": {},
     "output_type": "execute_result"
    }
   ],
   "source": [
    "features_list"
   ]
  },
  {
   "cell_type": "code",
   "execution_count": 194,
   "id": "hundred-serbia",
   "metadata": {},
   "outputs": [],
   "source": [
    "features_list.append('timestamp')"
   ]
  },
  {
   "cell_type": "code",
   "execution_count": 195,
   "id": "white-housing",
   "metadata": {},
   "outputs": [],
   "source": [
    "features_list.append('price_doc')"
   ]
  },
  {
   "cell_type": "code",
   "execution_count": 196,
   "id": "respected-boxing",
   "metadata": {},
   "outputs": [],
   "source": [
    "df = df[features_list]"
   ]
  },
  {
   "cell_type": "code",
   "execution_count": 151,
   "id": "processed-princess",
   "metadata": {},
   "outputs": [
    {
     "data": {
      "text/html": [
       "<div>\n",
       "<style scoped>\n",
       "    .dataframe tbody tr th:only-of-type {\n",
       "        vertical-align: middle;\n",
       "    }\n",
       "\n",
       "    .dataframe tbody tr th {\n",
       "        vertical-align: top;\n",
       "    }\n",
       "\n",
       "    .dataframe thead th {\n",
       "        text-align: right;\n",
       "    }\n",
       "</style>\n",
       "<table border=\"1\" class=\"dataframe\">\n",
       "  <thead>\n",
       "    <tr style=\"text-align: right;\">\n",
       "      <th></th>\n",
       "      <th>full_sq</th>\n",
       "      <th>state</th>\n",
       "      <th>kitch_sq</th>\n",
       "      <th>build_year</th>\n",
       "      <th>num_room</th>\n",
       "      <th>cafe_count_5000_price_high</th>\n",
       "      <th>cafe_sum_2000_max_price_avg</th>\n",
       "      <th>cafe_count_2000</th>\n",
       "      <th>ttk_km</th>\n",
       "      <th>cafe_count_2000_price_2500</th>\n",
       "      <th>floor</th>\n",
       "      <th>timestamp</th>\n",
       "    </tr>\n",
       "  </thead>\n",
       "  <tbody>\n",
       "    <tr>\n",
       "      <th>0</th>\n",
       "      <td>43</td>\n",
       "      <td>NaN</td>\n",
       "      <td>NaN</td>\n",
       "      <td>NaN</td>\n",
       "      <td>NaN</td>\n",
       "      <td>0</td>\n",
       "      <td>1042.86</td>\n",
       "      <td>36</td>\n",
       "      <td>10.918587</td>\n",
       "      <td>2</td>\n",
       "      <td>4.0</td>\n",
       "      <td>2011-08-20</td>\n",
       "    </tr>\n",
       "    <tr>\n",
       "      <th>1</th>\n",
       "      <td>34</td>\n",
       "      <td>NaN</td>\n",
       "      <td>NaN</td>\n",
       "      <td>NaN</td>\n",
       "      <td>NaN</td>\n",
       "      <td>0</td>\n",
       "      <td>1190.48</td>\n",
       "      <td>21</td>\n",
       "      <td>3.103996</td>\n",
       "      <td>2</td>\n",
       "      <td>3.0</td>\n",
       "      <td>2011-08-23</td>\n",
       "    </tr>\n",
       "    <tr>\n",
       "      <th>2</th>\n",
       "      <td>43</td>\n",
       "      <td>NaN</td>\n",
       "      <td>NaN</td>\n",
       "      <td>NaN</td>\n",
       "      <td>NaN</td>\n",
       "      <td>0</td>\n",
       "      <td>977.27</td>\n",
       "      <td>24</td>\n",
       "      <td>2.927487</td>\n",
       "      <td>1</td>\n",
       "      <td>2.0</td>\n",
       "      <td>2011-08-27</td>\n",
       "    </tr>\n",
       "    <tr>\n",
       "      <th>3</th>\n",
       "      <td>89</td>\n",
       "      <td>NaN</td>\n",
       "      <td>NaN</td>\n",
       "      <td>NaN</td>\n",
       "      <td>NaN</td>\n",
       "      <td>1</td>\n",
       "      <td>1120.00</td>\n",
       "      <td>25</td>\n",
       "      <td>14.606501</td>\n",
       "      <td>1</td>\n",
       "      <td>9.0</td>\n",
       "      <td>2011-09-01</td>\n",
       "    </tr>\n",
       "    <tr>\n",
       "      <th>4</th>\n",
       "      <td>77</td>\n",
       "      <td>NaN</td>\n",
       "      <td>NaN</td>\n",
       "      <td>NaN</td>\n",
       "      <td>NaN</td>\n",
       "      <td>17</td>\n",
       "      <td>1269.23</td>\n",
       "      <td>483</td>\n",
       "      <td>1.721834</td>\n",
       "      <td>50</td>\n",
       "      <td>4.0</td>\n",
       "      <td>2011-09-05</td>\n",
       "    </tr>\n",
       "  </tbody>\n",
       "</table>\n",
       "</div>"
      ],
      "text/plain": [
       "   full_sq  state  kitch_sq  build_year  num_room  cafe_count_5000_price_high  \\\n",
       "0       43    NaN       NaN         NaN       NaN                           0   \n",
       "1       34    NaN       NaN         NaN       NaN                           0   \n",
       "2       43    NaN       NaN         NaN       NaN                           0   \n",
       "3       89    NaN       NaN         NaN       NaN                           1   \n",
       "4       77    NaN       NaN         NaN       NaN                          17   \n",
       "\n",
       "   cafe_sum_2000_max_price_avg  cafe_count_2000     ttk_km  \\\n",
       "0                      1042.86               36  10.918587   \n",
       "1                      1190.48               21   3.103996   \n",
       "2                       977.27               24   2.927487   \n",
       "3                      1120.00               25  14.606501   \n",
       "4                      1269.23              483   1.721834   \n",
       "\n",
       "   cafe_count_2000_price_2500  floor   timestamp  \n",
       "0                           2    4.0  2011-08-20  \n",
       "1                           2    3.0  2011-08-23  \n",
       "2                           1    2.0  2011-08-27  \n",
       "3                           1    9.0  2011-09-01  \n",
       "4                          50    4.0  2011-09-05  "
      ]
     },
     "execution_count": 151,
     "metadata": {},
     "output_type": "execute_result"
    }
   ],
   "source": [
    "df.head()"
   ]
  },
  {
   "cell_type": "markdown",
   "id": "aquatic-treatment",
   "metadata": {},
   "source": [
    "Применим функции к датасету еще раз."
   ]
  },
  {
   "cell_type": "code",
   "execution_count": 152,
   "id": "romantic-bible",
   "metadata": {},
   "outputs": [],
   "source": [
    "def num_values_process(df, means):\n",
    "    \"\"\"data transforming and outliers removing\"\"\"\n",
    "    \n",
    "    #exchange array values to single number\n",
    "    indices_room = df[df['num_room'].apply(lambda x: isinstance(x, (np.ndarray)))]['num_room'].index\n",
    "    for index_val in indices_room:\n",
    "        df['num_room'].iloc[index_val] = round(sum(df['num_room'].iloc[index_val]/len(df['num_room'].iloc[index_val])),0)\n",
    "    \n",
    "    # trim too large values\n",
    "    df = df.loc[(df['full_sq'] < 1000)\n",
    "           & (df['floor'] < 50)\n",
    "           & (df['num_room'] < 12)\n",
    "           & (df['kitch_sq'] < 100)]\n",
    "    \n",
    "    #full square   \n",
    "    df.loc[df['full_sq'] < 14, 'full_sq'] = means['full_sq']\n",
    "    \n",
    "    #floor\n",
    "    df.loc[df['floor'] < 1, 'floor'] = means['floor']    \n",
    "    \n",
    "    # num room\n",
    "    df.loc[df['num_room'] < 1, 'num_room'] = means['num_room']\n",
    "    \n",
    "    #kitchen square\n",
    "    df.loc[df['kitch_sq'] < 2, 'kitch_sq'] = means['kitch_sq']\n",
    "    \n",
    "    return df"
   ]
  },
  {
   "cell_type": "code",
   "execution_count": 197,
   "id": "applied-dating",
   "metadata": {},
   "outputs": [],
   "source": [
    "indices_room = df[df['num_room'].apply(lambda x: isinstance(x, (np.ndarray)))]['num_room'].index\n",
    "for index_val in indices_room:\n",
    "    df['num_room'].iloc[index_val] = round(sum(df['num_room'].iloc[index_val]/len(df['num_room'].iloc[index_val])),0)"
   ]
  },
  {
   "cell_type": "code",
   "execution_count": 198,
   "id": "forced-projection",
   "metadata": {},
   "outputs": [],
   "source": [
    "indices_floor = df[df['floor'].apply(lambda x: isinstance(x, (np.ndarray)))]['floor'].index\n",
    "for index_val in indices_floor:\n",
    "    df['floor'].iloc[index_val] = round(sum(df['floor'].iloc[index_val]/len(df['floor'].iloc[index_val])),0)"
   ]
  },
  {
   "cell_type": "code",
   "execution_count": 199,
   "id": "broken-divide",
   "metadata": {},
   "outputs": [],
   "source": [
    "indices_state = df[df['state'].apply(lambda x: isinstance(x, (np.ndarray)))]['state'].index\n",
    "for index_val in indices_state:\n",
    "    df['state'].iloc[index_val] = round(sum(df['state'].iloc[index_val]/len(df['state'].iloc[index_val])),0)"
   ]
  },
  {
   "cell_type": "code",
   "execution_count": 200,
   "id": "fossil-plaintiff",
   "metadata": {},
   "outputs": [],
   "source": [
    "df=num_values_process(df, means_dict)"
   ]
  },
  {
   "cell_type": "code",
   "execution_count": 201,
   "id": "national-hygiene",
   "metadata": {
    "scrolled": true
   },
   "outputs": [
    {
     "data": {
      "text/plain": [
       "['full_sq',\n",
       " 'state',\n",
       " 'kitch_sq',\n",
       " 'build_year',\n",
       " 'num_room',\n",
       " 'cafe_count_5000_price_high',\n",
       " 'cafe_sum_2000_max_price_avg',\n",
       " 'cafe_count_2000',\n",
       " 'ttk_km',\n",
       " 'cafe_count_2000_price_2500',\n",
       " 'floor',\n",
       " 'timestamp',\n",
       " 'price_doc']"
      ]
     },
     "execution_count": 201,
     "metadata": {},
     "output_type": "execute_result"
    }
   ],
   "source": [
    "features_list"
   ]
  },
  {
   "cell_type": "code",
   "execution_count": 202,
   "id": "freelance-speed",
   "metadata": {},
   "outputs": [
    {
     "data": {
      "text/plain": [
       "2.0"
      ]
     },
     "execution_count": 202,
     "metadata": {},
     "output_type": "execute_result"
    }
   ],
   "source": [
    "mode_state = df['state'].mode().to_list()[0]\n",
    "mode_state"
   ]
  },
  {
   "cell_type": "code",
   "execution_count": 203,
   "id": "lesbian-mexican",
   "metadata": {},
   "outputs": [],
   "source": [
    "df['state'] = df['state'].fillna(mode_state)"
   ]
  },
  {
   "cell_type": "code",
   "execution_count": 204,
   "id": "certain-despite",
   "metadata": {},
   "outputs": [
    {
     "data": {
      "text/html": [
       "<div>\n",
       "<style scoped>\n",
       "    .dataframe tbody tr th:only-of-type {\n",
       "        vertical-align: middle;\n",
       "    }\n",
       "\n",
       "    .dataframe tbody tr th {\n",
       "        vertical-align: top;\n",
       "    }\n",
       "\n",
       "    .dataframe thead th {\n",
       "        text-align: right;\n",
       "    }\n",
       "</style>\n",
       "<table border=\"1\" class=\"dataframe\">\n",
       "  <thead>\n",
       "    <tr style=\"text-align: right;\">\n",
       "      <th></th>\n",
       "      <th>full_sq</th>\n",
       "      <th>state</th>\n",
       "      <th>kitch_sq</th>\n",
       "      <th>build_year</th>\n",
       "      <th>num_room</th>\n",
       "      <th>cafe_count_5000_price_high</th>\n",
       "      <th>cafe_sum_2000_max_price_avg</th>\n",
       "      <th>cafe_count_2000</th>\n",
       "      <th>ttk_km</th>\n",
       "      <th>cafe_count_2000_price_2500</th>\n",
       "      <th>floor</th>\n",
       "      <th>timestamp</th>\n",
       "      <th>price_doc</th>\n",
       "    </tr>\n",
       "  </thead>\n",
       "  <tbody>\n",
       "    <tr>\n",
       "      <th>7672</th>\n",
       "      <td>73.000000</td>\n",
       "      <td>2.0</td>\n",
       "      <td>11.000000</td>\n",
       "      <td>NaN</td>\n",
       "      <td>2.0</td>\n",
       "      <td>0</td>\n",
       "      <td>1166.67</td>\n",
       "      <td>3</td>\n",
       "      <td>10.868389</td>\n",
       "      <td>0</td>\n",
       "      <td>17.0</td>\n",
       "      <td>2013-04-27</td>\n",
       "      <td>10100000</td>\n",
       "    </tr>\n",
       "    <tr>\n",
       "      <th>8056</th>\n",
       "      <td>54.111845</td>\n",
       "      <td>3.0</td>\n",
       "      <td>12.000000</td>\n",
       "      <td>1907.0</td>\n",
       "      <td>1.0</td>\n",
       "      <td>26</td>\n",
       "      <td>1503.45</td>\n",
       "      <td>474</td>\n",
       "      <td>2.301037</td>\n",
       "      <td>69</td>\n",
       "      <td>2.0</td>\n",
       "      <td>2013-05-21</td>\n",
       "      <td>2750000</td>\n",
       "    </tr>\n",
       "    <tr>\n",
       "      <th>8111</th>\n",
       "      <td>85.000000</td>\n",
       "      <td>2.0</td>\n",
       "      <td>6.260521</td>\n",
       "      <td>NaN</td>\n",
       "      <td>3.0</td>\n",
       "      <td>0</td>\n",
       "      <td>1500.00</td>\n",
       "      <td>3</td>\n",
       "      <td>17.691722</td>\n",
       "      <td>1</td>\n",
       "      <td>13.0</td>\n",
       "      <td>2013-05-23</td>\n",
       "      <td>7574496</td>\n",
       "    </tr>\n",
       "    <tr>\n",
       "      <th>8135</th>\n",
       "      <td>53.000000</td>\n",
       "      <td>3.0</td>\n",
       "      <td>8.000000</td>\n",
       "      <td>1980.0</td>\n",
       "      <td>2.0</td>\n",
       "      <td>0</td>\n",
       "      <td>1141.03</td>\n",
       "      <td>41</td>\n",
       "      <td>11.018216</td>\n",
       "      <td>2</td>\n",
       "      <td>10.0</td>\n",
       "      <td>2013-05-25</td>\n",
       "      <td>9000000</td>\n",
       "    </tr>\n",
       "    <tr>\n",
       "      <th>8144</th>\n",
       "      <td>41.000000</td>\n",
       "      <td>2.0</td>\n",
       "      <td>6.260521</td>\n",
       "      <td>NaN</td>\n",
       "      <td>1.0</td>\n",
       "      <td>0</td>\n",
       "      <td>1500.00</td>\n",
       "      <td>2</td>\n",
       "      <td>20.604213</td>\n",
       "      <td>0</td>\n",
       "      <td>13.0</td>\n",
       "      <td>2013-05-27</td>\n",
       "      <td>4457400</td>\n",
       "    </tr>\n",
       "  </tbody>\n",
       "</table>\n",
       "</div>"
      ],
      "text/plain": [
       "        full_sq  state   kitch_sq  build_year  num_room  \\\n",
       "7672  73.000000    2.0  11.000000         NaN       2.0   \n",
       "8056  54.111845    3.0  12.000000      1907.0       1.0   \n",
       "8111  85.000000    2.0   6.260521         NaN       3.0   \n",
       "8135  53.000000    3.0   8.000000      1980.0       2.0   \n",
       "8144  41.000000    2.0   6.260521         NaN       1.0   \n",
       "\n",
       "      cafe_count_5000_price_high  cafe_sum_2000_max_price_avg  \\\n",
       "7672                           0                      1166.67   \n",
       "8056                          26                      1503.45   \n",
       "8111                           0                      1500.00   \n",
       "8135                           0                      1141.03   \n",
       "8144                           0                      1500.00   \n",
       "\n",
       "      cafe_count_2000     ttk_km  cafe_count_2000_price_2500  floor  \\\n",
       "7672                3  10.868389                           0   17.0   \n",
       "8056              474   2.301037                          69    2.0   \n",
       "8111                3  17.691722                           1   13.0   \n",
       "8135               41  11.018216                           2   10.0   \n",
       "8144                2  20.604213                           0   13.0   \n",
       "\n",
       "       timestamp  price_doc  \n",
       "7672  2013-04-27   10100000  \n",
       "8056  2013-05-21    2750000  \n",
       "8111  2013-05-23    7574496  \n",
       "8135  2013-05-25    9000000  \n",
       "8144  2013-05-27    4457400  "
      ]
     },
     "execution_count": 204,
     "metadata": {},
     "output_type": "execute_result"
    }
   ],
   "source": [
    "df.head()"
   ]
  },
  {
   "cell_type": "code",
   "execution_count": 205,
   "id": "little-conclusion",
   "metadata": {},
   "outputs": [],
   "source": [
    "means_by_state = dict()"
   ]
  },
  {
   "cell_type": "code",
   "execution_count": 206,
   "id": "different-specification",
   "metadata": {},
   "outputs": [],
   "source": [
    "for column in features_list[:-2]:\n",
    "    mean_series = df.groupby('state')[column].agg(pd.Series.mode)\n",
    "    means_by_state[column] = mean_series"
   ]
  },
  {
   "cell_type": "code",
   "execution_count": 207,
   "id": "pretty-trail",
   "metadata": {},
   "outputs": [],
   "source": [
    "for key in means_by_state:\n",
    "        values = means_by_state[key]\n",
    "        df[key] = df[key].fillna(df['state'].apply(lambda x: values.get(x)))  "
   ]
  },
  {
   "cell_type": "code",
   "execution_count": 208,
   "id": "refined-transition",
   "metadata": {},
   "outputs": [
    {
     "data": {
      "text/plain": [
       "(20887, 13)"
      ]
     },
     "execution_count": 208,
     "metadata": {},
     "output_type": "execute_result"
    }
   ],
   "source": [
    "df.shape"
   ]
  },
  {
   "cell_type": "code",
   "execution_count": 209,
   "id": "thorough-reflection",
   "metadata": {},
   "outputs": [],
   "source": [
    "def year_population(value):\n",
    "    if value is None:\n",
    "        return None\n",
    "    elif value < 22:\n",
    "        return value + 2000\n",
    "    elif value//1000 == 0 and value//100 == 0 and value > 22:\n",
    "        return value + 1900\n",
    "    elif value//1000 == 0 and value // 100 > 0:        \n",
    "        return None  \n",
    "    else:\n",
    "        return value  "
   ]
  },
  {
   "cell_type": "code",
   "execution_count": 210,
   "id": "another-offense",
   "metadata": {},
   "outputs": [],
   "source": [
    "df['build_year'] = df['build_year'].apply(lambda x: year_population(x)) "
   ]
  },
  {
   "cell_type": "code",
   "execution_count": 211,
   "id": "optimum-people",
   "metadata": {
    "scrolled": true
   },
   "outputs": [
    {
     "data": {
      "text/plain": [
       "full_sq                        0\n",
       "state                          0\n",
       "kitch_sq                       0\n",
       "build_year                     1\n",
       "num_room                       0\n",
       "cafe_count_5000_price_high     0\n",
       "cafe_sum_2000_max_price_avg    0\n",
       "cafe_count_2000                0\n",
       "ttk_km                         0\n",
       "cafe_count_2000_price_2500     0\n",
       "floor                          0\n",
       "timestamp                      0\n",
       "price_doc                      0\n",
       "dtype: int64"
      ]
     },
     "execution_count": 211,
     "metadata": {},
     "output_type": "execute_result"
    }
   ],
   "source": [
    "df.isna().sum()"
   ]
  },
  {
   "cell_type": "code",
   "execution_count": 212,
   "id": "original-facial",
   "metadata": {},
   "outputs": [
    {
     "data": {
      "text/plain": [
       "1970.0"
      ]
     },
     "execution_count": 212,
     "metadata": {},
     "output_type": "execute_result"
    }
   ],
   "source": [
    "build_year_mode = df['build_year'].mode().to_list()[0]\n",
    "build_year_mode"
   ]
  },
  {
   "cell_type": "code",
   "execution_count": 213,
   "id": "offshore-bidder",
   "metadata": {},
   "outputs": [],
   "source": [
    "df['build_year']=df['build_year'].fillna(build_year_mode)"
   ]
  },
  {
   "cell_type": "code",
   "execution_count": 214,
   "id": "tender-moral",
   "metadata": {},
   "outputs": [
    {
     "data": {
      "text/plain": [
       "full_sq                        0\n",
       "state                          0\n",
       "kitch_sq                       0\n",
       "build_year                     0\n",
       "num_room                       0\n",
       "cafe_count_5000_price_high     0\n",
       "cafe_sum_2000_max_price_avg    0\n",
       "cafe_count_2000                0\n",
       "ttk_km                         0\n",
       "cafe_count_2000_price_2500     0\n",
       "floor                          0\n",
       "timestamp                      0\n",
       "price_doc                      0\n",
       "dtype: int64"
      ]
     },
     "execution_count": 214,
     "metadata": {},
     "output_type": "execute_result"
    }
   ],
   "source": [
    "df.isna().sum()"
   ]
  },
  {
   "cell_type": "code",
   "execution_count": 215,
   "id": "average-progressive",
   "metadata": {},
   "outputs": [],
   "source": [
    "for column in features_list[:-2]:\n",
    "    if column in ['build_year', 'state', 'num_room', 'cafe_count_5000_price_high', \n",
    "                  'cafe_count_2000', 'floor', 'cafe_count_2000_price_2500']:\n",
    "        df[column] = df[column].astype('int32')\n",
    "    else:\n",
    "        df[column] = df[column].astype('float')"
   ]
  },
  {
   "cell_type": "code",
   "execution_count": 216,
   "id": "twenty-richardson",
   "metadata": {
    "scrolled": false
   },
   "outputs": [
    {
     "data": {
      "text/html": [
       "<div>\n",
       "<style scoped>\n",
       "    .dataframe tbody tr th:only-of-type {\n",
       "        vertical-align: middle;\n",
       "    }\n",
       "\n",
       "    .dataframe tbody tr th {\n",
       "        vertical-align: top;\n",
       "    }\n",
       "\n",
       "    .dataframe thead th {\n",
       "        text-align: right;\n",
       "    }\n",
       "</style>\n",
       "<table border=\"1\" class=\"dataframe\">\n",
       "  <thead>\n",
       "    <tr style=\"text-align: right;\">\n",
       "      <th></th>\n",
       "      <th>full_sq</th>\n",
       "      <th>state</th>\n",
       "      <th>kitch_sq</th>\n",
       "      <th>build_year</th>\n",
       "      <th>num_room</th>\n",
       "      <th>cafe_count_5000_price_high</th>\n",
       "      <th>cafe_sum_2000_max_price_avg</th>\n",
       "      <th>cafe_count_2000</th>\n",
       "      <th>ttk_km</th>\n",
       "      <th>cafe_count_2000_price_2500</th>\n",
       "      <th>floor</th>\n",
       "      <th>timestamp</th>\n",
       "      <th>price_doc</th>\n",
       "    </tr>\n",
       "  </thead>\n",
       "  <tbody>\n",
       "    <tr>\n",
       "      <th>7672</th>\n",
       "      <td>73.000000</td>\n",
       "      <td>2</td>\n",
       "      <td>11.000000</td>\n",
       "      <td>1970</td>\n",
       "      <td>2</td>\n",
       "      <td>0</td>\n",
       "      <td>1166.67</td>\n",
       "      <td>3</td>\n",
       "      <td>10.868389</td>\n",
       "      <td>0</td>\n",
       "      <td>17</td>\n",
       "      <td>2013-04-27</td>\n",
       "      <td>10100000</td>\n",
       "    </tr>\n",
       "    <tr>\n",
       "      <th>8056</th>\n",
       "      <td>54.111845</td>\n",
       "      <td>3</td>\n",
       "      <td>12.000000</td>\n",
       "      <td>1907</td>\n",
       "      <td>1</td>\n",
       "      <td>26</td>\n",
       "      <td>1503.45</td>\n",
       "      <td>474</td>\n",
       "      <td>2.301037</td>\n",
       "      <td>69</td>\n",
       "      <td>2</td>\n",
       "      <td>2013-05-21</td>\n",
       "      <td>2750000</td>\n",
       "    </tr>\n",
       "    <tr>\n",
       "      <th>8111</th>\n",
       "      <td>85.000000</td>\n",
       "      <td>2</td>\n",
       "      <td>6.260521</td>\n",
       "      <td>1970</td>\n",
       "      <td>3</td>\n",
       "      <td>0</td>\n",
       "      <td>1500.00</td>\n",
       "      <td>3</td>\n",
       "      <td>17.691722</td>\n",
       "      <td>1</td>\n",
       "      <td>13</td>\n",
       "      <td>2013-05-23</td>\n",
       "      <td>7574496</td>\n",
       "    </tr>\n",
       "    <tr>\n",
       "      <th>8135</th>\n",
       "      <td>53.000000</td>\n",
       "      <td>3</td>\n",
       "      <td>8.000000</td>\n",
       "      <td>1980</td>\n",
       "      <td>2</td>\n",
       "      <td>0</td>\n",
       "      <td>1141.03</td>\n",
       "      <td>41</td>\n",
       "      <td>11.018216</td>\n",
       "      <td>2</td>\n",
       "      <td>10</td>\n",
       "      <td>2013-05-25</td>\n",
       "      <td>9000000</td>\n",
       "    </tr>\n",
       "    <tr>\n",
       "      <th>8144</th>\n",
       "      <td>41.000000</td>\n",
       "      <td>2</td>\n",
       "      <td>6.260521</td>\n",
       "      <td>1970</td>\n",
       "      <td>1</td>\n",
       "      <td>0</td>\n",
       "      <td>1500.00</td>\n",
       "      <td>2</td>\n",
       "      <td>20.604213</td>\n",
       "      <td>0</td>\n",
       "      <td>13</td>\n",
       "      <td>2013-05-27</td>\n",
       "      <td>4457400</td>\n",
       "    </tr>\n",
       "  </tbody>\n",
       "</table>\n",
       "</div>"
      ],
      "text/plain": [
       "        full_sq  state   kitch_sq  build_year  num_room  \\\n",
       "7672  73.000000      2  11.000000        1970         2   \n",
       "8056  54.111845      3  12.000000        1907         1   \n",
       "8111  85.000000      2   6.260521        1970         3   \n",
       "8135  53.000000      3   8.000000        1980         2   \n",
       "8144  41.000000      2   6.260521        1970         1   \n",
       "\n",
       "      cafe_count_5000_price_high  cafe_sum_2000_max_price_avg  \\\n",
       "7672                           0                      1166.67   \n",
       "8056                          26                      1503.45   \n",
       "8111                           0                      1500.00   \n",
       "8135                           0                      1141.03   \n",
       "8144                           0                      1500.00   \n",
       "\n",
       "      cafe_count_2000     ttk_km  cafe_count_2000_price_2500  floor  \\\n",
       "7672                3  10.868389                           0     17   \n",
       "8056              474   2.301037                          69      2   \n",
       "8111                3  17.691722                           1     13   \n",
       "8135               41  11.018216                           2     10   \n",
       "8144                2  20.604213                           0     13   \n",
       "\n",
       "       timestamp  price_doc  \n",
       "7672  2013-04-27   10100000  \n",
       "8056  2013-05-21    2750000  \n",
       "8111  2013-05-23    7574496  \n",
       "8135  2013-05-25    9000000  \n",
       "8144  2013-05-27    4457400  "
      ]
     },
     "execution_count": 216,
     "metadata": {},
     "output_type": "execute_result"
    }
   ],
   "source": [
    "df.head()"
   ]
  },
  {
   "cell_type": "code",
   "execution_count": 217,
   "id": "brutal-blade",
   "metadata": {},
   "outputs": [],
   "source": []
  },
  {
   "cell_type": "code",
   "execution_count": null,
   "id": "sticky-leonard",
   "metadata": {},
   "outputs": [],
   "source": []
  },
  {
   "cell_type": "markdown",
   "id": "failing-vinyl",
   "metadata": {},
   "source": [
    "### Обучение и проверка модели без учета макроэкономических показателей"
   ]
  },
  {
   "cell_type": "code",
   "execution_count": 218,
   "id": "lasting-spine",
   "metadata": {},
   "outputs": [],
   "source": [
    "y = df['price_doc']"
   ]
  },
  {
   "cell_type": "code",
   "execution_count": 220,
   "id": "romantic-assault",
   "metadata": {},
   "outputs": [
    {
     "data": {
      "text/plain": [
       "7672    10100000\n",
       "8056     2750000\n",
       "8111     7574496\n",
       "8135     9000000\n",
       "8144     4457400\n",
       "Name: price_doc, dtype: int64"
      ]
     },
     "execution_count": 220,
     "metadata": {},
     "output_type": "execute_result"
    }
   ],
   "source": [
    "y.head()"
   ]
  },
  {
   "cell_type": "code",
   "execution_count": 219,
   "id": "expected-colonial",
   "metadata": {},
   "outputs": [],
   "source": [
    "X = df[features_list[:-2]]"
   ]
  },
  {
   "cell_type": "code",
   "execution_count": 221,
   "id": "foster-success",
   "metadata": {},
   "outputs": [
    {
     "data": {
      "text/html": [
       "<div>\n",
       "<style scoped>\n",
       "    .dataframe tbody tr th:only-of-type {\n",
       "        vertical-align: middle;\n",
       "    }\n",
       "\n",
       "    .dataframe tbody tr th {\n",
       "        vertical-align: top;\n",
       "    }\n",
       "\n",
       "    .dataframe thead th {\n",
       "        text-align: right;\n",
       "    }\n",
       "</style>\n",
       "<table border=\"1\" class=\"dataframe\">\n",
       "  <thead>\n",
       "    <tr style=\"text-align: right;\">\n",
       "      <th></th>\n",
       "      <th>full_sq</th>\n",
       "      <th>state</th>\n",
       "      <th>kitch_sq</th>\n",
       "      <th>build_year</th>\n",
       "      <th>num_room</th>\n",
       "      <th>cafe_count_5000_price_high</th>\n",
       "      <th>cafe_sum_2000_max_price_avg</th>\n",
       "      <th>cafe_count_2000</th>\n",
       "      <th>ttk_km</th>\n",
       "      <th>cafe_count_2000_price_2500</th>\n",
       "      <th>floor</th>\n",
       "    </tr>\n",
       "  </thead>\n",
       "  <tbody>\n",
       "    <tr>\n",
       "      <th>7672</th>\n",
       "      <td>73.000000</td>\n",
       "      <td>2</td>\n",
       "      <td>11.000000</td>\n",
       "      <td>1970</td>\n",
       "      <td>2</td>\n",
       "      <td>0</td>\n",
       "      <td>1166.67</td>\n",
       "      <td>3</td>\n",
       "      <td>10.868389</td>\n",
       "      <td>0</td>\n",
       "      <td>17</td>\n",
       "    </tr>\n",
       "    <tr>\n",
       "      <th>8056</th>\n",
       "      <td>54.111845</td>\n",
       "      <td>3</td>\n",
       "      <td>12.000000</td>\n",
       "      <td>1907</td>\n",
       "      <td>1</td>\n",
       "      <td>26</td>\n",
       "      <td>1503.45</td>\n",
       "      <td>474</td>\n",
       "      <td>2.301037</td>\n",
       "      <td>69</td>\n",
       "      <td>2</td>\n",
       "    </tr>\n",
       "    <tr>\n",
       "      <th>8111</th>\n",
       "      <td>85.000000</td>\n",
       "      <td>2</td>\n",
       "      <td>6.260521</td>\n",
       "      <td>1970</td>\n",
       "      <td>3</td>\n",
       "      <td>0</td>\n",
       "      <td>1500.00</td>\n",
       "      <td>3</td>\n",
       "      <td>17.691722</td>\n",
       "      <td>1</td>\n",
       "      <td>13</td>\n",
       "    </tr>\n",
       "    <tr>\n",
       "      <th>8135</th>\n",
       "      <td>53.000000</td>\n",
       "      <td>3</td>\n",
       "      <td>8.000000</td>\n",
       "      <td>1980</td>\n",
       "      <td>2</td>\n",
       "      <td>0</td>\n",
       "      <td>1141.03</td>\n",
       "      <td>41</td>\n",
       "      <td>11.018216</td>\n",
       "      <td>2</td>\n",
       "      <td>10</td>\n",
       "    </tr>\n",
       "    <tr>\n",
       "      <th>8144</th>\n",
       "      <td>41.000000</td>\n",
       "      <td>2</td>\n",
       "      <td>6.260521</td>\n",
       "      <td>1970</td>\n",
       "      <td>1</td>\n",
       "      <td>0</td>\n",
       "      <td>1500.00</td>\n",
       "      <td>2</td>\n",
       "      <td>20.604213</td>\n",
       "      <td>0</td>\n",
       "      <td>13</td>\n",
       "    </tr>\n",
       "  </tbody>\n",
       "</table>\n",
       "</div>"
      ],
      "text/plain": [
       "        full_sq  state   kitch_sq  build_year  num_room  \\\n",
       "7672  73.000000      2  11.000000        1970         2   \n",
       "8056  54.111845      3  12.000000        1907         1   \n",
       "8111  85.000000      2   6.260521        1970         3   \n",
       "8135  53.000000      3   8.000000        1980         2   \n",
       "8144  41.000000      2   6.260521        1970         1   \n",
       "\n",
       "      cafe_count_5000_price_high  cafe_sum_2000_max_price_avg  \\\n",
       "7672                           0                      1166.67   \n",
       "8056                          26                      1503.45   \n",
       "8111                           0                      1500.00   \n",
       "8135                           0                      1141.03   \n",
       "8144                           0                      1500.00   \n",
       "\n",
       "      cafe_count_2000     ttk_km  cafe_count_2000_price_2500  floor  \n",
       "7672                3  10.868389                           0     17  \n",
       "8056              474   2.301037                          69      2  \n",
       "8111                3  17.691722                           1     13  \n",
       "8135               41  11.018216                           2     10  \n",
       "8144                2  20.604213                           0     13  "
      ]
     },
     "execution_count": 221,
     "metadata": {},
     "output_type": "execute_result"
    }
   ],
   "source": [
    "X.head()"
   ]
  },
  {
   "cell_type": "code",
   "execution_count": 225,
   "id": "formed-quantity",
   "metadata": {},
   "outputs": [],
   "source": [
    "X_train, X_valid, y_train, y_valid = train_test_split(X, y, test_size = 0.33, random_state = 33)"
   ]
  },
  {
   "cell_type": "code",
   "execution_count": 226,
   "id": "pediatric-observer",
   "metadata": {},
   "outputs": [],
   "source": [
    "cat_features = ['build_year', 'state', 'num_room', 'cafe_count_5000_price_high', \n",
    "                  'cafe_count_2000', 'floor', 'cafe_count_2000_price_2500']"
   ]
  },
  {
   "cell_type": "code",
   "execution_count": 227,
   "id": "strategic-cookbook",
   "metadata": {},
   "outputs": [],
   "source": [
    "model_cb_best = catboost.CatBoostRegressor(depth = 8,\n",
    "                                           iterations = 100,\n",
    "                                           learning_rate = 0.1,\n",
    "                                           l2_leaf_reg = 1,\n",
    "                                           cat_features = cat_features)"
   ]
  },
  {
   "cell_type": "code",
   "execution_count": 229,
   "id": "undefined-judge",
   "metadata": {
    "scrolled": true
   },
   "outputs": [
    {
     "data": {
      "application/vnd.jupyter.widget-view+json": {
       "model_id": "c5aab3fe01b9457ca574c61980fb854c",
       "version_major": 2,
       "version_minor": 0
      },
      "text/plain": [
       "MetricVisualizer(layout=Layout(align_self='stretch', height='500px'))"
      ]
     },
     "metadata": {},
     "output_type": "display_data"
    },
    {
     "data": {
      "text/plain": [
       "<catboost.core.CatBoostRegressor at 0x2319ded3790>"
      ]
     },
     "execution_count": 229,
     "metadata": {},
     "output_type": "execute_result"
    }
   ],
   "source": [
    "model_cb_best.fit(X_train, \n",
    "             y_train, \n",
    "             eval_set = (X_valid, y_valid),\n",
    "             verbose=False, \n",
    "             plot = True)"
   ]
  },
  {
   "cell_type": "markdown",
   "id": "immediate-limitation",
   "metadata": {},
   "source": [
    "Используем тестовый датасет для оценки изменеий"
   ]
  },
  {
   "cell_type": "code",
   "execution_count": 230,
   "id": "vital-generation",
   "metadata": {},
   "outputs": [],
   "source": [
    "valid_df = pd.read_csv('project_data/attempt_4/test.csv')"
   ]
  },
  {
   "cell_type": "code",
   "execution_count": 236,
   "id": "recent-pixel",
   "metadata": {},
   "outputs": [],
   "source": [
    "X_test = func.process(valid_df, 'test')"
   ]
  },
  {
   "cell_type": "code",
   "execution_count": 237,
   "id": "frozen-greensboro",
   "metadata": {},
   "outputs": [],
   "source": [
    "X_test = X_test[features_list[:-2]]"
   ]
  },
  {
   "cell_type": "code",
   "execution_count": 238,
   "id": "rural-portfolio",
   "metadata": {},
   "outputs": [],
   "source": [
    "y_test = model_cb_best.predict(X_test)"
   ]
  },
  {
   "cell_type": "code",
   "execution_count": 239,
   "id": "innovative-working",
   "metadata": {},
   "outputs": [],
   "source": [
    "result = pd.DataFrame(valid_df['id'])"
   ]
  },
  {
   "cell_type": "code",
   "execution_count": 240,
   "id": "incredible-shanghai",
   "metadata": {},
   "outputs": [],
   "source": [
    "result['price_doc'] = y_test.tolist()"
   ]
  },
  {
   "cell_type": "code",
   "execution_count": 241,
   "id": "abandoned-better",
   "metadata": {},
   "outputs": [],
   "source": [
    "result = result.set_index('id')"
   ]
  },
  {
   "cell_type": "code",
   "execution_count": 242,
   "id": "settled-cedar",
   "metadata": {},
   "outputs": [],
   "source": [
    "result.to_csv('submission.csv')"
   ]
  },
  {
   "cell_type": "markdown",
   "id": "prostate-deviation",
   "metadata": {},
   "source": [
    "#### Результат\n",
    "Объем датасета значительно уменьшился, но точность при этом стала хуже."
   ]
  },
  {
   "cell_type": "markdown",
   "id": "regional-sessions",
   "metadata": {},
   "source": [
    "### Обучение и проверка модели с учетом макроэкономических показателей"
   ]
  },
  {
   "cell_type": "code",
   "execution_count": null,
   "id": "approximate-cleaners",
   "metadata": {},
   "outputs": [],
   "source": []
  },
  {
   "cell_type": "code",
   "execution_count": null,
   "id": "irish-straight",
   "metadata": {},
   "outputs": [],
   "source": []
  },
  {
   "cell_type": "code",
   "execution_count": null,
   "id": "graphic-auckland",
   "metadata": {},
   "outputs": [],
   "source": []
  },
  {
   "cell_type": "code",
   "execution_count": null,
   "id": "graphic-omaha",
   "metadata": {},
   "outputs": [],
   "source": []
  },
  {
   "cell_type": "code",
   "execution_count": null,
   "id": "immediate-carter",
   "metadata": {},
   "outputs": [],
   "source": []
  },
  {
   "cell_type": "code",
   "execution_count": null,
   "id": "bulgarian-warehouse",
   "metadata": {},
   "outputs": [],
   "source": []
  },
  {
   "cell_type": "code",
   "execution_count": null,
   "id": "political-zoning",
   "metadata": {},
   "outputs": [],
   "source": []
  },
  {
   "cell_type": "code",
   "execution_count": null,
   "id": "charming-forum",
   "metadata": {},
   "outputs": [],
   "source": []
  },
  {
   "cell_type": "code",
   "execution_count": null,
   "id": "paperback-stick",
   "metadata": {},
   "outputs": [],
   "source": []
  }
 ],
 "metadata": {
  "kernelspec": {
   "display_name": "Python 3",
   "language": "python",
   "name": "python3"
  },
  "language_info": {
   "codemirror_mode": {
    "name": "ipython",
    "version": 3
   },
   "file_extension": ".py",
   "mimetype": "text/x-python",
   "name": "python",
   "nbconvert_exporter": "python",
   "pygments_lexer": "ipython3",
   "version": "3.9.1"
  }
 },
 "nbformat": 4,
 "nbformat_minor": 5
}
