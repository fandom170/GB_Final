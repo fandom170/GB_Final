{
 "cells": [
  {
   "cell_type": "code",
   "execution_count": 2,
   "id": "according-wonder",
   "metadata": {},
   "outputs": [],
   "source": [
    "import numpy as np\n",
    "import pandas as pd"
   ]
  },
  {
   "cell_type": "code",
   "execution_count": 3,
   "id": "prospective-distinction",
   "metadata": {},
   "outputs": [],
   "source": [
    "import pickle"
   ]
  },
  {
   "cell_type": "code",
   "execution_count": 4,
   "id": "geographic-fashion",
   "metadata": {},
   "outputs": [],
   "source": [
    "import catboost"
   ]
  },
  {
   "cell_type": "code",
   "execution_count": null,
   "id": "handed-cycle",
   "metadata": {},
   "outputs": [],
   "source": []
  },
  {
   "cell_type": "code",
   "execution_count": null,
   "id": "defensive-depression",
   "metadata": {},
   "outputs": [],
   "source": []
  },
  {
   "cell_type": "code",
   "execution_count": null,
   "id": "dramatic-handle",
   "metadata": {},
   "outputs": [],
   "source": []
  },
  {
   "cell_type": "code",
   "execution_count": 5,
   "id": "burning-homework",
   "metadata": {},
   "outputs": [],
   "source": [
    "filename = 'preliminary_trained_model.pkl'"
   ]
  },
  {
   "cell_type": "code",
   "execution_count": 6,
   "id": "expired-general",
   "metadata": {},
   "outputs": [],
   "source": [
    "model = pickle.load(open(filename, 'rb'))"
   ]
  },
  {
   "cell_type": "code",
   "execution_count": 49,
   "id": "united-might",
   "metadata": {},
   "outputs": [],
   "source": [
    "valid_df = pd.read_csv('project_data/attempt_4/test.csv')"
   ]
  },
  {
   "cell_type": "code",
   "execution_count": 50,
   "id": "tough-silence",
   "metadata": {},
   "outputs": [],
   "source": [
    "df_date = pd.read_pickle('macroeconomic.pkl')"
   ]
  },
  {
   "cell_type": "code",
   "execution_count": 51,
   "id": "future-shepherd",
   "metadata": {},
   "outputs": [],
   "source": [
    "df_complete = valid_df.merge(df_date, how='left', left_on='timestamp', right_on='timestamp')"
   ]
  },
  {
   "cell_type": "code",
   "execution_count": 58,
   "id": "administrative-belief",
   "metadata": {},
   "outputs": [],
   "source": [
    "df_complete = df_complete.fillna(0)"
   ]
  },
  {
   "cell_type": "code",
   "execution_count": 59,
   "id": "employed-gospel",
   "metadata": {},
   "outputs": [],
   "source": [
    "submissions = model.predict(df_complete)"
   ]
  },
  {
   "cell_type": "code",
   "execution_count": 60,
   "id": "white-review",
   "metadata": {},
   "outputs": [
    {
     "data": {
      "text/plain": [
       "array([ 5924858.05309915,  9916951.06138354,  4892607.41267314, ...,\n",
       "       -1308363.44179923,  4406463.55423659, 12912744.28472111])"
      ]
     },
     "execution_count": 60,
     "metadata": {},
     "output_type": "execute_result"
    }
   ],
   "source": [
    "submissions"
   ]
  },
  {
   "cell_type": "code",
   "execution_count": 61,
   "id": "extreme-cologne",
   "metadata": {},
   "outputs": [],
   "source": [
    "result = pd.DataFrame(valid_df['id'])"
   ]
  },
  {
   "cell_type": "code",
   "execution_count": null,
   "id": "proved-immigration",
   "metadata": {},
   "outputs": [],
   "source": []
  },
  {
   "cell_type": "code",
   "execution_count": 62,
   "id": "collective-moisture",
   "metadata": {},
   "outputs": [],
   "source": [
    "result['price_doc_0'] = submissions.tolist()"
   ]
  },
  {
   "cell_type": "code",
   "execution_count": 63,
   "id": "collected-cocktail",
   "metadata": {},
   "outputs": [],
   "source": [
    "result = result.set_index('id')"
   ]
  },
  {
   "cell_type": "code",
   "execution_count": 64,
   "id": "proud-contractor",
   "metadata": {},
   "outputs": [
    {
     "data": {
      "text/html": [
       "<div>\n",
       "<style scoped>\n",
       "    .dataframe tbody tr th:only-of-type {\n",
       "        vertical-align: middle;\n",
       "    }\n",
       "\n",
       "    .dataframe tbody tr th {\n",
       "        vertical-align: top;\n",
       "    }\n",
       "\n",
       "    .dataframe thead th {\n",
       "        text-align: right;\n",
       "    }\n",
       "</style>\n",
       "<table border=\"1\" class=\"dataframe\">\n",
       "  <thead>\n",
       "    <tr style=\"text-align: right;\">\n",
       "      <th></th>\n",
       "      <th>price_doc_0</th>\n",
       "    </tr>\n",
       "    <tr>\n",
       "      <th>id</th>\n",
       "      <th></th>\n",
       "    </tr>\n",
       "  </thead>\n",
       "  <tbody>\n",
       "    <tr>\n",
       "      <th>30474</th>\n",
       "      <td>5.924858e+06</td>\n",
       "    </tr>\n",
       "    <tr>\n",
       "      <th>30475</th>\n",
       "      <td>9.916951e+06</td>\n",
       "    </tr>\n",
       "    <tr>\n",
       "      <th>30476</th>\n",
       "      <td>4.892607e+06</td>\n",
       "    </tr>\n",
       "    <tr>\n",
       "      <th>30477</th>\n",
       "      <td>8.939420e+06</td>\n",
       "    </tr>\n",
       "    <tr>\n",
       "      <th>30478</th>\n",
       "      <td>4.757160e+06</td>\n",
       "    </tr>\n",
       "  </tbody>\n",
       "</table>\n",
       "</div>"
      ],
      "text/plain": [
       "        price_doc_0\n",
       "id                 \n",
       "30474  5.924858e+06\n",
       "30475  9.916951e+06\n",
       "30476  4.892607e+06\n",
       "30477  8.939420e+06\n",
       "30478  4.757160e+06"
      ]
     },
     "execution_count": 64,
     "metadata": {},
     "output_type": "execute_result"
    }
   ],
   "source": [
    "result.head()"
   ]
  },
  {
   "cell_type": "code",
   "execution_count": null,
   "id": "sound-score",
   "metadata": {},
   "outputs": [],
   "source": []
  },
  {
   "cell_type": "code",
   "execution_count": 65,
   "id": "distinguished-hungarian",
   "metadata": {},
   "outputs": [],
   "source": [
    "result['price_doc'] = result['price_doc_0'].apply(lambda x: round(abs(x), 2) if x < 0 else round(x, 2))"
   ]
  },
  {
   "cell_type": "code",
   "execution_count": 66,
   "id": "attractive-democrat",
   "metadata": {},
   "outputs": [],
   "source": [
    "result.drop('price_doc_0', axis = 1, inplace=True)"
   ]
  },
  {
   "cell_type": "code",
   "execution_count": 67,
   "id": "isolated-pencil",
   "metadata": {},
   "outputs": [],
   "source": [
    "result.to_csv('submission.csv')"
   ]
  },
  {
   "cell_type": "code",
   "execution_count": 68,
   "id": "metropolitan-participant",
   "metadata": {},
   "outputs": [
    {
     "data": {
      "text/plain": [
       "(7662, 1)"
      ]
     },
     "execution_count": 68,
     "metadata": {},
     "output_type": "execute_result"
    }
   ],
   "source": [
    "result.shape"
   ]
  },
  {
   "cell_type": "code",
   "execution_count": null,
   "id": "cheap-sampling",
   "metadata": {},
   "outputs": [],
   "source": []
  },
  {
   "cell_type": "code",
   "execution_count": null,
   "id": "identical-fiction",
   "metadata": {},
   "outputs": [],
   "source": []
  }
 ],
 "metadata": {
  "kernelspec": {
   "display_name": "Python 3",
   "language": "python",
   "name": "python3"
  },
  "language_info": {
   "codemirror_mode": {
    "name": "ipython",
    "version": 3
   },
   "file_extension": ".py",
   "mimetype": "text/x-python",
   "name": "python",
   "nbconvert_exporter": "python",
   "pygments_lexer": "ipython3",
   "version": "3.9.1"
  }
 },
 "nbformat": 4,
 "nbformat_minor": 5
}
